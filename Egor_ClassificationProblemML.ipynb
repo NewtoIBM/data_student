{
 "cells": [
  {
   "cell_type": "code",
   "execution_count": 1,
   "metadata": {},
   "outputs": [],
   "source": [
    "import pandas as pd\n",
    "import matplotlib\n",
    "import csv\n",
    "import numpy as np\n",
    "import scipy.stats\n",
    "import matplotlib.pyplot as plt\n",
    "import seaborn as sns"
   ]
  },
  {
   "cell_type": "code",
   "execution_count": 2,
   "metadata": {},
   "outputs": [
    {
     "data": {
      "text/html": [
       "<div>\n",
       "<style scoped>\n",
       "    .dataframe tbody tr th:only-of-type {\n",
       "        vertical-align: middle;\n",
       "    }\n",
       "\n",
       "    .dataframe tbody tr th {\n",
       "        vertical-align: top;\n",
       "    }\n",
       "\n",
       "    .dataframe thead th {\n",
       "        text-align: right;\n",
       "    }\n",
       "</style>\n",
       "<table border=\"1\" class=\"dataframe\">\n",
       "  <thead>\n",
       "    <tr style=\"text-align: right;\">\n",
       "      <th></th>\n",
       "      <th>Time</th>\n",
       "      <th>V1</th>\n",
       "      <th>V2</th>\n",
       "      <th>V3</th>\n",
       "      <th>V4</th>\n",
       "      <th>V5</th>\n",
       "      <th>V6</th>\n",
       "      <th>V7</th>\n",
       "      <th>V8</th>\n",
       "      <th>V9</th>\n",
       "      <th>...</th>\n",
       "      <th>V21</th>\n",
       "      <th>V22</th>\n",
       "      <th>V23</th>\n",
       "      <th>V24</th>\n",
       "      <th>V25</th>\n",
       "      <th>V26</th>\n",
       "      <th>V27</th>\n",
       "      <th>V28</th>\n",
       "      <th>Amount</th>\n",
       "      <th>Class</th>\n",
       "    </tr>\n",
       "  </thead>\n",
       "  <tbody>\n",
       "    <tr>\n",
       "      <th>0</th>\n",
       "      <td>0.0</td>\n",
       "      <td>-1.359807</td>\n",
       "      <td>-0.072781</td>\n",
       "      <td>2.536347</td>\n",
       "      <td>1.378155</td>\n",
       "      <td>-0.338321</td>\n",
       "      <td>0.462388</td>\n",
       "      <td>0.239599</td>\n",
       "      <td>0.098698</td>\n",
       "      <td>0.363787</td>\n",
       "      <td>...</td>\n",
       "      <td>-0.018307</td>\n",
       "      <td>0.277838</td>\n",
       "      <td>-0.110474</td>\n",
       "      <td>0.066928</td>\n",
       "      <td>0.128539</td>\n",
       "      <td>-0.189115</td>\n",
       "      <td>0.133558</td>\n",
       "      <td>-0.021053</td>\n",
       "      <td>149.62</td>\n",
       "      <td>0</td>\n",
       "    </tr>\n",
       "    <tr>\n",
       "      <th>1</th>\n",
       "      <td>0.0</td>\n",
       "      <td>1.191857</td>\n",
       "      <td>0.266151</td>\n",
       "      <td>0.166480</td>\n",
       "      <td>0.448154</td>\n",
       "      <td>0.060018</td>\n",
       "      <td>-0.082361</td>\n",
       "      <td>-0.078803</td>\n",
       "      <td>0.085102</td>\n",
       "      <td>-0.255425</td>\n",
       "      <td>...</td>\n",
       "      <td>-0.225775</td>\n",
       "      <td>-0.638672</td>\n",
       "      <td>0.101288</td>\n",
       "      <td>-0.339846</td>\n",
       "      <td>0.167170</td>\n",
       "      <td>0.125895</td>\n",
       "      <td>-0.008983</td>\n",
       "      <td>0.014724</td>\n",
       "      <td>2.69</td>\n",
       "      <td>0</td>\n",
       "    </tr>\n",
       "    <tr>\n",
       "      <th>2</th>\n",
       "      <td>1.0</td>\n",
       "      <td>-1.358354</td>\n",
       "      <td>-1.340163</td>\n",
       "      <td>1.773209</td>\n",
       "      <td>0.379780</td>\n",
       "      <td>-0.503198</td>\n",
       "      <td>1.800499</td>\n",
       "      <td>0.791461</td>\n",
       "      <td>0.247676</td>\n",
       "      <td>-1.514654</td>\n",
       "      <td>...</td>\n",
       "      <td>0.247998</td>\n",
       "      <td>0.771679</td>\n",
       "      <td>0.909412</td>\n",
       "      <td>-0.689281</td>\n",
       "      <td>-0.327642</td>\n",
       "      <td>-0.139097</td>\n",
       "      <td>-0.055353</td>\n",
       "      <td>-0.059752</td>\n",
       "      <td>378.66</td>\n",
       "      <td>0</td>\n",
       "    </tr>\n",
       "    <tr>\n",
       "      <th>3</th>\n",
       "      <td>1.0</td>\n",
       "      <td>-0.966272</td>\n",
       "      <td>-0.185226</td>\n",
       "      <td>1.792993</td>\n",
       "      <td>-0.863291</td>\n",
       "      <td>-0.010309</td>\n",
       "      <td>1.247203</td>\n",
       "      <td>0.237609</td>\n",
       "      <td>0.377436</td>\n",
       "      <td>-1.387024</td>\n",
       "      <td>...</td>\n",
       "      <td>-0.108300</td>\n",
       "      <td>0.005274</td>\n",
       "      <td>-0.190321</td>\n",
       "      <td>-1.175575</td>\n",
       "      <td>0.647376</td>\n",
       "      <td>-0.221929</td>\n",
       "      <td>0.062723</td>\n",
       "      <td>0.061458</td>\n",
       "      <td>123.50</td>\n",
       "      <td>0</td>\n",
       "    </tr>\n",
       "    <tr>\n",
       "      <th>4</th>\n",
       "      <td>2.0</td>\n",
       "      <td>-1.158233</td>\n",
       "      <td>0.877737</td>\n",
       "      <td>1.548718</td>\n",
       "      <td>0.403034</td>\n",
       "      <td>-0.407193</td>\n",
       "      <td>0.095921</td>\n",
       "      <td>0.592941</td>\n",
       "      <td>-0.270533</td>\n",
       "      <td>0.817739</td>\n",
       "      <td>...</td>\n",
       "      <td>-0.009431</td>\n",
       "      <td>0.798278</td>\n",
       "      <td>-0.137458</td>\n",
       "      <td>0.141267</td>\n",
       "      <td>-0.206010</td>\n",
       "      <td>0.502292</td>\n",
       "      <td>0.219422</td>\n",
       "      <td>0.215153</td>\n",
       "      <td>69.99</td>\n",
       "      <td>0</td>\n",
       "    </tr>\n",
       "    <tr>\n",
       "      <th>5</th>\n",
       "      <td>2.0</td>\n",
       "      <td>-0.425966</td>\n",
       "      <td>0.960523</td>\n",
       "      <td>1.141109</td>\n",
       "      <td>-0.168252</td>\n",
       "      <td>0.420987</td>\n",
       "      <td>-0.029728</td>\n",
       "      <td>0.476201</td>\n",
       "      <td>0.260314</td>\n",
       "      <td>-0.568671</td>\n",
       "      <td>...</td>\n",
       "      <td>-0.208254</td>\n",
       "      <td>-0.559825</td>\n",
       "      <td>-0.026398</td>\n",
       "      <td>-0.371427</td>\n",
       "      <td>-0.232794</td>\n",
       "      <td>0.105915</td>\n",
       "      <td>0.253844</td>\n",
       "      <td>0.081080</td>\n",
       "      <td>3.67</td>\n",
       "      <td>0</td>\n",
       "    </tr>\n",
       "    <tr>\n",
       "      <th>6</th>\n",
       "      <td>4.0</td>\n",
       "      <td>1.229658</td>\n",
       "      <td>0.141004</td>\n",
       "      <td>0.045371</td>\n",
       "      <td>1.202613</td>\n",
       "      <td>0.191881</td>\n",
       "      <td>0.272708</td>\n",
       "      <td>-0.005159</td>\n",
       "      <td>0.081213</td>\n",
       "      <td>0.464960</td>\n",
       "      <td>...</td>\n",
       "      <td>-0.167716</td>\n",
       "      <td>-0.270710</td>\n",
       "      <td>-0.154104</td>\n",
       "      <td>-0.780055</td>\n",
       "      <td>0.750137</td>\n",
       "      <td>-0.257237</td>\n",
       "      <td>0.034507</td>\n",
       "      <td>0.005168</td>\n",
       "      <td>4.99</td>\n",
       "      <td>0</td>\n",
       "    </tr>\n",
       "    <tr>\n",
       "      <th>7</th>\n",
       "      <td>7.0</td>\n",
       "      <td>-0.644269</td>\n",
       "      <td>1.417964</td>\n",
       "      <td>1.074380</td>\n",
       "      <td>-0.492199</td>\n",
       "      <td>0.948934</td>\n",
       "      <td>0.428118</td>\n",
       "      <td>1.120631</td>\n",
       "      <td>-3.807864</td>\n",
       "      <td>0.615375</td>\n",
       "      <td>...</td>\n",
       "      <td>1.943465</td>\n",
       "      <td>-1.015455</td>\n",
       "      <td>0.057504</td>\n",
       "      <td>-0.649709</td>\n",
       "      <td>-0.415267</td>\n",
       "      <td>-0.051634</td>\n",
       "      <td>-1.206921</td>\n",
       "      <td>-1.085339</td>\n",
       "      <td>40.80</td>\n",
       "      <td>0</td>\n",
       "    </tr>\n",
       "    <tr>\n",
       "      <th>8</th>\n",
       "      <td>7.0</td>\n",
       "      <td>-0.894286</td>\n",
       "      <td>0.286157</td>\n",
       "      <td>-0.113192</td>\n",
       "      <td>-0.271526</td>\n",
       "      <td>2.669599</td>\n",
       "      <td>3.721818</td>\n",
       "      <td>0.370145</td>\n",
       "      <td>0.851084</td>\n",
       "      <td>-0.392048</td>\n",
       "      <td>...</td>\n",
       "      <td>-0.073425</td>\n",
       "      <td>-0.268092</td>\n",
       "      <td>-0.204233</td>\n",
       "      <td>1.011592</td>\n",
       "      <td>0.373205</td>\n",
       "      <td>-0.384157</td>\n",
       "      <td>0.011747</td>\n",
       "      <td>0.142404</td>\n",
       "      <td>93.20</td>\n",
       "      <td>0</td>\n",
       "    </tr>\n",
       "    <tr>\n",
       "      <th>9</th>\n",
       "      <td>9.0</td>\n",
       "      <td>-0.338262</td>\n",
       "      <td>1.119593</td>\n",
       "      <td>1.044367</td>\n",
       "      <td>-0.222187</td>\n",
       "      <td>0.499361</td>\n",
       "      <td>-0.246761</td>\n",
       "      <td>0.651583</td>\n",
       "      <td>0.069539</td>\n",
       "      <td>-0.736727</td>\n",
       "      <td>...</td>\n",
       "      <td>-0.246914</td>\n",
       "      <td>-0.633753</td>\n",
       "      <td>-0.120794</td>\n",
       "      <td>-0.385050</td>\n",
       "      <td>-0.069733</td>\n",
       "      <td>0.094199</td>\n",
       "      <td>0.246219</td>\n",
       "      <td>0.083076</td>\n",
       "      <td>3.68</td>\n",
       "      <td>0</td>\n",
       "    </tr>\n",
       "  </tbody>\n",
       "</table>\n",
       "<p>10 rows × 31 columns</p>\n",
       "</div>"
      ],
      "text/plain": [
       "   Time        V1        V2        V3        V4        V5        V6        V7  \\\n",
       "0   0.0 -1.359807 -0.072781  2.536347  1.378155 -0.338321  0.462388  0.239599   \n",
       "1   0.0  1.191857  0.266151  0.166480  0.448154  0.060018 -0.082361 -0.078803   \n",
       "2   1.0 -1.358354 -1.340163  1.773209  0.379780 -0.503198  1.800499  0.791461   \n",
       "3   1.0 -0.966272 -0.185226  1.792993 -0.863291 -0.010309  1.247203  0.237609   \n",
       "4   2.0 -1.158233  0.877737  1.548718  0.403034 -0.407193  0.095921  0.592941   \n",
       "5   2.0 -0.425966  0.960523  1.141109 -0.168252  0.420987 -0.029728  0.476201   \n",
       "6   4.0  1.229658  0.141004  0.045371  1.202613  0.191881  0.272708 -0.005159   \n",
       "7   7.0 -0.644269  1.417964  1.074380 -0.492199  0.948934  0.428118  1.120631   \n",
       "8   7.0 -0.894286  0.286157 -0.113192 -0.271526  2.669599  3.721818  0.370145   \n",
       "9   9.0 -0.338262  1.119593  1.044367 -0.222187  0.499361 -0.246761  0.651583   \n",
       "\n",
       "         V8        V9  ...       V21       V22       V23       V24       V25  \\\n",
       "0  0.098698  0.363787  ... -0.018307  0.277838 -0.110474  0.066928  0.128539   \n",
       "1  0.085102 -0.255425  ... -0.225775 -0.638672  0.101288 -0.339846  0.167170   \n",
       "2  0.247676 -1.514654  ...  0.247998  0.771679  0.909412 -0.689281 -0.327642   \n",
       "3  0.377436 -1.387024  ... -0.108300  0.005274 -0.190321 -1.175575  0.647376   \n",
       "4 -0.270533  0.817739  ... -0.009431  0.798278 -0.137458  0.141267 -0.206010   \n",
       "5  0.260314 -0.568671  ... -0.208254 -0.559825 -0.026398 -0.371427 -0.232794   \n",
       "6  0.081213  0.464960  ... -0.167716 -0.270710 -0.154104 -0.780055  0.750137   \n",
       "7 -3.807864  0.615375  ...  1.943465 -1.015455  0.057504 -0.649709 -0.415267   \n",
       "8  0.851084 -0.392048  ... -0.073425 -0.268092 -0.204233  1.011592  0.373205   \n",
       "9  0.069539 -0.736727  ... -0.246914 -0.633753 -0.120794 -0.385050 -0.069733   \n",
       "\n",
       "        V26       V27       V28  Amount  Class  \n",
       "0 -0.189115  0.133558 -0.021053  149.62      0  \n",
       "1  0.125895 -0.008983  0.014724    2.69      0  \n",
       "2 -0.139097 -0.055353 -0.059752  378.66      0  \n",
       "3 -0.221929  0.062723  0.061458  123.50      0  \n",
       "4  0.502292  0.219422  0.215153   69.99      0  \n",
       "5  0.105915  0.253844  0.081080    3.67      0  \n",
       "6 -0.257237  0.034507  0.005168    4.99      0  \n",
       "7 -0.051634 -1.206921 -1.085339   40.80      0  \n",
       "8 -0.384157  0.011747  0.142404   93.20      0  \n",
       "9  0.094199  0.246219  0.083076    3.68      0  \n",
       "\n",
       "[10 rows x 31 columns]"
      ]
     },
     "execution_count": 2,
     "metadata": {},
     "output_type": "execute_result"
    }
   ],
   "source": [
    "# Import Train and Test Data \n",
    "cards = '/Users/ceo/Desktop/'\n",
    "cardsdf=  pd.read_csv(cards + 'creditcard.csv') \n",
    "cardsdf.head(10)\n"
   ]
  },
  {
   "cell_type": "code",
   "execution_count": 3,
   "metadata": {},
   "outputs": [],
   "source": [
    "Fraud = cardsdf[cardsdf['Class']==1]\n",
    "\n",
    "Normal = cardsdf[cardsdf['Class']==0]"
   ]
  },
  {
   "cell_type": "code",
   "execution_count": 4,
   "metadata": {},
   "outputs": [],
   "source": [
    "Fraud = cardsdf[cardsdf['Class']==1]\n",
    "Valid = cardsdf[cardsdf['Class']==0]\n",
    "outlier_fraction = len(Fraud)/float(len(Valid))"
   ]
  },
  {
   "cell_type": "markdown",
   "metadata": {},
   "source": [
    "# LocalOutlierFactor"
   ]
  },
  {
   "cell_type": "code",
   "execution_count": 5,
   "metadata": {},
   "outputs": [],
   "source": [
    "from sklearn.preprocessing import StandardScaler\n",
    "scaler = StandardScaler()\n",
    "cardsdf_norm = scaler.fit_transform(cardsdf.drop(columns = 'Class'))\n",
    "X = np.array(cardsdf_norm)\n",
    "Y = np.array(cardsdf['Class'])"
   ]
  },
  {
   "cell_type": "code",
   "execution_count": 6,
   "metadata": {},
   "outputs": [
    {
     "name": "stdout",
     "output_type": "stream",
     "text": [
      "Accuracy Score :\n",
      "0.03800117272398502\n",
      "Classification Report :\n",
      "              precision    recall  f1-score   support\n",
      "\n",
      "           0       1.00      0.04      0.07    284315\n",
      "           1       0.00      0.97      0.00       492\n",
      "\n",
      "    accuracy                           0.04    284807\n",
      "   macro avg       0.50      0.50      0.04    284807\n",
      "weighted avg       1.00      0.04      0.07    284807\n",
      "\n"
     ]
    }
   ],
   "source": [
    "from sklearn.metrics import accuracy_score\n",
    "from sklearn.metrics import classification_report\n",
    "from sklearn.neighbors import LocalOutlierFactor\n",
    "from sklearn.model_selection import cross_val_score\n",
    "from statistics import mean \n",
    "#columns = cardsdf.columns.tolist()\n",
    "# Filter the columns to remove data we do not want \n",
    "#columns = [c for c in columns if c not in [\"Class\"]]\n",
    "# Store the variable we are predicting \n",
    "#target = \"Class\"\n",
    "# Define a random state \n",
    "state = np.random.RandomState(42)\n",
    "#X = cardsdf[columns]\n",
    "#Y = cardsdf[target]\n",
    "#target = \"Class\"\n",
    "# Define a random state \n",
    "state = np.random.RandomState(42)\n",
    "n_outliers = len(Fraud)\n",
    "\n",
    "\n",
    "anomalydetector = LocalOutlierFactor(n_neighbors=2,novelty=True)\n",
    "anomalydetector.fit(X)\n",
    "\n",
    "# evaluate a model using repeated k-fold cross-validation\n",
    "#def evaluate_model(X, y, metric):\n",
    "#        scores = cross_val_score(anomalydetector, X, Y, scoring=metric, cv=10, n_jobs=-1)\n",
    "#        return scores\n",
    "anomalydetector.negative_outlier_factor_\n",
    "#y_pred = anomalydetector.predict(X)\n",
    "    # Run Classification Metrics\n",
    "preds = anomalydetector.predict(X)\n",
    "preds = pd.Series([0 if preds[i] <= 0.5 else 1 for i in range(len(preds))])\n",
    "\n",
    "from sklearn.metrics import confusion_matrix\n",
    "confusion_matrix(Y, preds)\n",
    "print(\"Accuracy Score :\")\n",
    "print(accuracy_score(Y,preds))\n",
    "print(\"Classification Report :\")\n",
    "print(classification_report(Y,preds))\n"
   ]
  },
  {
   "cell_type": "code",
   "execution_count": 7,
   "metadata": {},
   "outputs": [
    {
     "data": {
      "text/plain": [
       "array([[ 10346, 273969],\n",
       "       [    15,    477]], dtype=int64)"
      ]
     },
     "execution_count": 7,
     "metadata": {},
     "output_type": "execute_result"
    }
   ],
   "source": [
    "from sklearn.metrics import confusion_matrix\n",
    "confusion_matrix(Y, preds)"
   ]
  },
  {
   "cell_type": "code",
   "execution_count": 8,
   "metadata": {},
   "outputs": [
    {
     "data": {
      "image/png": "[encoded data removed]",
      "text/plain": [
       "<Figure size 432x288 with 1 Axes>"
      ]
     },
     "metadata": {
      "needs_background": "light"
     },
     "output_type": "display_data"
    }
   ],
   "source": [
    "from sklearn.metrics import roc_auc_score\n",
    "roc_auc_score(Y, preds)\n",
    "import sklearn.metrics as metrics\n",
    "# calculate the fpr and tpr for all thresholds of the classification\n",
    "#probs = clf.predict_proba(X)\n",
    "#preds = probs[:,1]\n",
    "fpr, tpr, threshold = metrics.roc_curve(Y, preds)\n",
    "roc_auc = metrics.auc(fpr, tpr)\n",
    "\n",
    "# method I: plt\n",
    "import matplotlib.pyplot as plt\n",
    "plt.title('Receiver Operating Characteristic')\n",
    "plt.plot(fpr, tpr, 'b', label = 'AUC = %0.2f' % roc_auc)\n",
    "plt.legend(loc = 'lower right')\n",
    "plt.plot([0, 1], [0, 1],'r--')\n",
    "plt.xlim([0, 1])\n",
    "plt.ylim([0, 1])\n",
    "plt.ylabel('True Positive Rate')\n",
    "plt.xlabel('False Positive Rate')\n",
    "plt.show()"
   ]
  },
  {
   "cell_type": "markdown",
   "metadata": {},
   "source": [
    "# IsolationForest"
   ]
  },
  {
   "cell_type": "code",
   "execution_count": 9,
   "metadata": {},
   "outputs": [
    {
     "name": "stderr",
     "output_type": "stream",
     "text": [
      "[Parallel(n_jobs=1)]: Using backend SequentialBackend with 1 concurrent workers.\n",
      "[Parallel(n_jobs=1)]: Done   1 out of   1 | elapsed:  3.0min finished\n"
     ]
    },
    {
     "name": "stdout",
     "output_type": "stream",
     "text": [
      "Accuracy Score :\n",
      "0.002348959119684558\n",
      "Classification Report :\n",
      "              precision    recall  f1-score   support\n",
      "\n",
      "           0       0.68      0.00      0.00    284315\n",
      "           1       0.00      0.68      0.00       492\n",
      "\n",
      "    accuracy                           0.00    284807\n",
      "   macro avg       0.34      0.34      0.00    284807\n",
      "weighted avg       0.68      0.00      0.00    284807\n",
      "\n"
     ]
    }
   ],
   "source": [
    "from sklearn.metrics import accuracy_score\n",
    "from sklearn.metrics import classification_report\n",
    "from sklearn.ensemble import IsolationForest\n",
    "from sklearn.neighbors import LocalOutlierFactor\n",
    "from sklearn.svm import OneClassSVM\n",
    "#columns = cardsdf.columns.tolist()\n",
    "# Filter the columns to remove data we do not want \n",
    "#columns = [c for c in columns if c not in [\"Class\"]]\n",
    "# Store the variable we are predicting \n",
    "#target = \"Class\"\n",
    "\n",
    "#X = cardsdf[columns]\n",
    "#Y = cardsdf[target]\n",
    "\n",
    "# Define a random state \n",
    "state = np.random.RandomState(42)\n",
    "n_outliers = len(Fraud)\n",
    "\n",
    "#        clf.fit(X)\n",
    "#        scores_prediction = clf.decision_function(X)\n",
    " #       y_pred = clf.predict(X)\n",
    "    #Reshape the prediction values to 0 for Valid transactions , 1 for Fraud transactions\n",
    "    #y_pred[y_pred == 1] = 0\n",
    "    #y_pred[y_pred == -1] = 1\n",
    "    #n_errors = (y_pred != Y).sum()\n",
    "    \n",
    "clf = IsolationForest(n_estimators=1000, max_samples=len(X), \n",
    "                                       contamination=outlier_fraction,random_state=state, verbose=1).fit(X)\n",
    "#scores_prediction = clf.decision_ function(X)\n",
    "#preds = anomalydetector.predict(X)\n",
    "\n",
    "y_pred = clf.predict(X)\n",
    "    # Run Classification Metrics\n",
    "\n",
    "y_pred = pd.Series([0 if y_pred[i] <= 0.5 else 1 for i in range(len(y_pred))])\n",
    "print(\"Accuracy Score :\")\n",
    "print(accuracy_score(Y,y_pred))\n",
    "print(\"Classification Report :\")\n",
    "print(classification_report(Y,y_pred))"
   ]
  },
  {
   "cell_type": "code",
   "execution_count": 10,
   "metadata": {},
   "outputs": [
    {
     "data": {
      "text/plain": [
       "array([[   335, 283980],\n",
       "       [   158,    334]], dtype=int64)"
      ]
     },
     "execution_count": 10,
     "metadata": {},
     "output_type": "execute_result"
    }
   ],
   "source": [
    "from sklearn.metrics import confusion_matrix\n",
    "confusion_matrix(Y, y_pred)"
   ]
  },
  {
   "cell_type": "code",
   "execution_count": 11,
   "metadata": {},
   "outputs": [
    {
     "data": {
      "image/png": "[encoded data removed]",
      "text/plain": [
       "<Figure size 432x288 with 1 Axes>"
      ]
     },
     "metadata": {
      "needs_background": "light"
     },
     "output_type": "display_data"
    }
   ],
   "source": [
    "from sklearn.metrics import roc_auc_score\n",
    "roc_auc_score(Y, y_pred)\n",
    "import sklearn.metrics as metrics\n",
    "# calculate the fpr and tpr for all thresholds of the classification\n",
    "#probs = clf.predict_proba(X)\n",
    "#preds = probs[:,1]\n",
    "fpr, tpr, threshold = metrics.roc_curve(Y, y_pred)\n",
    "roc_auc = metrics.auc(fpr, tpr)\n",
    "\n",
    "# method I: plt\n",
    "import matplotlib.pyplot as plt\n",
    "plt.title('Receiver Operating Characteristic')\n",
    "plt.plot(fpr, tpr, 'b', label = 'AUC = %0.2f' % roc_auc)\n",
    "plt.legend(loc = 'lower right')\n",
    "plt.plot([0, 1], [0, 1],'r--')\n",
    "plt.xlim([0, 1])\n",
    "plt.ylim([0, 1])\n",
    "plt.ylabel('True Positive Rate')\n",
    "plt.xlabel('False Positive Rate')\n",
    "plt.show()"
   ]
  },
  {
   "cell_type": "markdown",
   "metadata": {},
   "source": [
    "# Sector Vector Machine"
   ]
  },
  {
   "cell_type": "code",
   "execution_count": 12,
   "metadata": {},
   "outputs": [],
   "source": [
    "from sklearn.preprocessing import StandardScaler\n",
    "scaler = StandardScaler()\n",
    "cardsdf_norm = scaler.fit_transform(cardsdf.drop(columns = 'Class'))\n",
    "X = np.array(cardsdf_norm)\n",
    "Y = np.array(cardsdf['Class'])"
   ]
  },
  {
   "cell_type": "code",
   "execution_count": 13,
   "metadata": {},
   "outputs": [
    {
     "name": "stdout",
     "output_type": "stream",
     "text": [
      "0.9996694424176729\n"
     ]
    }
   ],
   "source": [
    "from sklearn import svm\n",
    "\n",
    "#columns = cardsdf.columns.tolist()\n",
    "# Filter the columns to remove data we do not want \n",
    "#columns = [c for c in columns if c not in [\"Class\"]]\n",
    "# Store the variable we are predicting \n",
    "#target = \"Class\"\n",
    "# Define a random state \n",
    "state = np.random.RandomState(42)\n",
    "#X = cardsdf[columns]\n",
    "#Y = cardsdf[target]\n",
    "\n",
    "# Define a random state \n",
    "state = np.random.RandomState(42)\n",
    "n_outliers = len(Fraud)\n",
    "clf = svm.SVC()\n",
    "clf.fit(X,Y)\n",
    "preds = clf.predict(X)\n",
    "y_pred_temp = [0 if preds[i] <= 0.5 else 1 for i in range(len(preds))]\n",
    "\n",
    "from sklearn.metrics import fbeta_score\n",
    "\n",
    "print(fbeta_score(Y, y_pred_temp, average='weighted', beta=0.5))\n"
   ]
  },
  {
   "cell_type": "code",
   "execution_count": 14,
   "metadata": {},
   "outputs": [
    {
     "data": {
      "text/plain": [
       "array([[284305,     10],\n",
       "       [    81,    411]], dtype=int64)"
      ]
     },
     "execution_count": 14,
     "metadata": {},
     "output_type": "execute_result"
    }
   ],
   "source": [
    "from sklearn.metrics import confusion_matrix\n",
    "confusion_matrix(Y,y_pred_temp)"
   ]
  },
  {
   "cell_type": "code",
   "execution_count": 15,
   "metadata": {},
   "outputs": [
    {
     "data": {
      "image/png": "[encoded data removed]",
      "text/plain": [
       "<Figure size 432x288 with 1 Axes>"
      ]
     },
     "metadata": {
      "needs_background": "light"
     },
     "output_type": "display_data"
    }
   ],
   "source": [
    "from sklearn.metrics import roc_auc_score\n",
    "roc_auc_score(Y, y_pred_temp)\n",
    "import sklearn.metrics as metrics\n",
    "# calculate the fpr and tpr for all thresholds of the classification\n",
    "#probs = clf.predict_proba(X)\n",
    "#preds = probs[:,1]\n",
    "fpr, tpr, threshold = metrics.roc_curve(Y, y_pred_temp)\n",
    "roc_auc = metrics.auc(fpr, tpr)\n",
    "\n",
    "# method I: plt\n",
    "import matplotlib.pyplot as plt\n",
    "plt.title('Receiver Operating Characteristic')\n",
    "plt.plot(fpr, tpr, 'b', label = 'AUC = %0.2f' % roc_auc)\n",
    "plt.legend(loc = 'lower right')\n",
    "plt.plot([0, 1], [0, 1],'r--')\n",
    "plt.xlim([0, 1])\n",
    "plt.ylim([0, 1])\n",
    "plt.ylabel('True Positive Rate')\n",
    "plt.xlabel('False Positive Rate')\n",
    "plt.show()"
   ]
  },
  {
   "cell_type": "code",
   "execution_count": 16,
   "metadata": {},
   "outputs": [
    {
     "name": "stdout",
     "output_type": "stream",
     "text": [
      "Classification Report :\n",
      "              precision    recall  f1-score   support\n",
      "\n",
      "           0       1.00      1.00      1.00    284315\n",
      "           1       0.98      0.84      0.90       492\n",
      "\n",
      "    accuracy                           1.00    284807\n",
      "   macro avg       0.99      0.92      0.95    284807\n",
      "weighted avg       1.00      1.00      1.00    284807\n",
      "\n"
     ]
    }
   ],
   "source": [
    "from sklearn.metrics import classification_report\n",
    "print(\"Classification Report :\")\n",
    "print(classification_report(Y, y_pred_temp))\n"
   ]
  },
  {
   "cell_type": "markdown",
   "metadata": {},
   "source": [
    "# KNeighborsClassifier"
   ]
  },
  {
   "cell_type": "code",
   "execution_count": 17,
   "metadata": {},
   "outputs": [
    {
     "data": {
      "image/png": "[encoded data removed]",
      "text/plain": [
       "<Figure size 432x288 with 1 Axes>"
      ]
     },
     "metadata": {
      "needs_background": "light"
     },
     "output_type": "display_data"
    }
   ],
   "source": [
    "from sklearn.preprocessing import StandardScaler\n",
    "scaler = StandardScaler()\n",
    "cardsdf_norm = scaler.fit_transform(cardsdf.drop(columns = 'Class'))\n",
    "X = np.array(cardsdf_norm)\n",
    "Y = np.array(cardsdf['Class'])\n",
    "from sklearn.cluster import MiniBatchKMeans\n",
    "# Define the range of clusters to try\n",
    "clustno = range(1, 10)\n",
    "\n",
    "# Run MiniBatch Kmeans over the number of clusters\n",
    "kmeans = [MiniBatchKMeans(n_clusters=i) for i in clustno]\n",
    "\n",
    "# Obtain the score for each model\n",
    "score = [kmeans[i].fit(X).score(X) for i in range(len(kmeans))]\n",
    "\n",
    "# Plot the models and their respective score \n",
    "plt.plot(clustno, score)\n",
    "plt.xlabel('Number of Clusters')\n",
    "plt.ylabel('Score')\n",
    "plt.title('Elbow Curve')\n",
    "plt.show()"
   ]
  },
  {
   "cell_type": "code",
   "execution_count": 18,
   "metadata": {},
   "outputs": [
    {
     "name": "stdout",
     "output_type": "stream",
     "text": [
      "Accuracy Score:\n",
      "0.9995575951433778\n",
      "Classification Report:\n",
      "              precision    recall  f1-score   support\n",
      "\n",
      "           0       1.00      1.00      1.00    284315\n",
      "           1       0.95      0.78      0.86       492\n",
      "\n",
      "    accuracy                           1.00    284807\n",
      "   macro avg       0.98      0.89      0.93    284807\n",
      "weighted avg       1.00      1.00      1.00    284807\n",
      "\n"
     ]
    }
   ],
   "source": [
    "from sklearn.neighbors import KNeighborsClassifier\n",
    "from sklearn.metrics import accuracy_score\n",
    "from sklearn.metrics import classification_report\n",
    "#columns = cardsdf.columns.tolist()\n",
    "# Filter the columns to remove data we do not want \n",
    "#columns = [c for c in columns if c not in [\"Class\"]]\n",
    "# Store the variable we are predicting \n",
    "#target = \"Class\"\n",
    "\n",
    "#X = cardsdf[columns]\n",
    "#Y = cardsdf[target]\n",
    "\n",
    "# Define a random state \n",
    "state = np.random.RandomState(42)\n",
    "n_outliers = len(Fraud)\n",
    "neigh = KNeighborsClassifier(n_neighbors=7)\n",
    "neigh.fit(X, Y)\n",
    "preds = neigh.predict(X)\n",
    "y_pred_temp = [0 if preds[i] <= 0.5 else 1 for i in range(len(preds))]\n",
    "\n",
    "\n",
    "print(\"Accuracy Score:\")\n",
    "print(accuracy_score(Y,y_pred_temp))\n",
    "print(\"Classification Report:\")\n",
    "print(classification_report(Y,y_pred_temp))\n",
    "\n"
   ]
  },
  {
   "cell_type": "code",
   "execution_count": 19,
   "metadata": {},
   "outputs": [
    {
     "data": {
      "text/plain": [
       "array([[284295,     20],\n",
       "       [   106,    386]], dtype=int64)"
      ]
     },
     "execution_count": 19,
     "metadata": {},
     "output_type": "execute_result"
    }
   ],
   "source": [
    "from sklearn.metrics import confusion_matrix\n",
    "confusion_matrix(Y, y_pred_temp)"
   ]
  },
  {
   "cell_type": "code",
   "execution_count": 20,
   "metadata": {},
   "outputs": [
    {
     "data": {
      "image/png": "[encoded data removed]",
      "text/plain": [
       "<Figure size 432x288 with 1 Axes>"
      ]
     },
     "metadata": {
      "needs_background": "light"
     },
     "output_type": "display_data"
    }
   ],
   "source": [
    "from sklearn.metrics import roc_auc_score\n",
    "roc_auc_score(Y, y_pred_temp )\n",
    "import sklearn.metrics as metrics\n",
    "# calculate the fpr and tpr for all thresholds of the classification\n",
    "#probs = clf.predict_proba(X)\n",
    "#preds = probs[:,1]\n",
    "fpr, tpr, threshold = metrics.roc_curve(Y, y_pred_temp)\n",
    "roc_auc = metrics.auc(fpr, tpr)\n",
    "\n",
    "# method I: plt\n",
    "import matplotlib.pyplot as plt\n",
    "plt.title('Receiver Operating Characteristic')\n",
    "plt.plot(fpr, tpr, 'b', label = 'AUC = %0.2f' % roc_auc)\n",
    "plt.legend(loc = 'lower right')\n",
    "plt.plot([0, 1], [0, 1],'r--')\n",
    "plt.xlim([0, 1])\n",
    "plt.ylim([0, 1])\n",
    "plt.ylabel('True Positive Rate')\n",
    "plt.xlabel('False Positive Rate')\n",
    "plt.show()"
   ]
  },
  {
   "cell_type": "markdown",
   "metadata": {},
   "source": [
    "# Autoencoder"
   ]
  },
  {
   "cell_type": "code",
   "execution_count": 5,
   "metadata": {},
   "outputs": [],
   "source": [
    "from sklearn.preprocessing import StandardScaler\n",
    "scaler = StandardScaler()\n",
    "cardsdf_norm = scaler.fit_transform(cardsdf.drop(columns = 'Class'))\n",
    "X = np.array(cardsdf_norm)\n",
    "Y = np.array(cardsdf['Class'])"
   ]
  },
  {
   "cell_type": "code",
   "execution_count": 9,
   "metadata": {},
   "outputs": [
    {
     "name": "stdout",
     "output_type": "stream",
     "text": [
      "Epoch 1/30\n",
      "284807/284807 [==============================] - 1s 4us/sample - loss: 0.9983 - acc: 0.0017\n",
      "Epoch 2/30\n",
      "284807/284807 [==============================] - 1s 4us/sample - loss: 0.9983 - acc: 0.0017\n",
      "Epoch 3/30\n",
      "284807/284807 [==============================] - 1s 4us/sample - loss: 0.9983 - acc: 0.0017\n",
      "Epoch 4/30\n",
      "284807/284807 [==============================] - 1s 4us/sample - loss: 0.9983 - acc: 0.0017\n",
      "Epoch 5/30\n",
      "284807/284807 [==============================] - 1s 4us/sample - loss: 0.9983 - acc: 0.0017\n",
      "Epoch 6/30\n",
      "284807/284807 [==============================] - 1s 4us/sample - loss: 0.9983 - acc: 0.0017\n",
      "Epoch 7/30\n",
      "284807/284807 [==============================] - 1s 4us/sample - loss: 0.9983 - acc: 0.0017\n",
      "Epoch 8/30\n",
      "284807/284807 [==============================] - 1s 5us/sample - loss: 0.9983 - acc: 0.0017 0s - loss: 0.9984\n",
      "Epoch 9/30\n",
      "284807/284807 [==============================] - 1s 5us/sample - loss: 0.9983 - acc: 0.0017\n",
      "Epoch 10/30\n",
      "284807/284807 [==============================] - 1s 4us/sample - loss: 0.9983 - acc: 0.0017\n",
      "Epoch 11/30\n",
      "284807/284807 [==============================] - 1s 5us/sample - loss: 0.9983 - acc: 0.0017\n",
      "Epoch 12/30\n",
      "284807/284807 [==============================] - 1s 4us/sample - loss: 0.9983 - acc: 0.0017\n",
      "Epoch 13/30\n",
      "284807/284807 [==============================] - 1s 5us/sample - loss: 0.9983 - acc: 0.0017\n",
      "Epoch 14/30\n",
      "284807/284807 [==============================] - 1s 4us/sample - loss: 0.9983 - acc: 0.0017\n",
      "Epoch 15/30\n",
      "284807/284807 [==============================] - 1s 4us/sample - loss: 0.9983 - acc: 0.0017\n",
      "Epoch 16/30\n",
      "284807/284807 [==============================] - 1s 4us/sample - loss: 0.9983 - acc: 0.0017\n",
      "Epoch 17/30\n",
      "284807/284807 [==============================] - 1s 4us/sample - loss: 0.9983 - acc: 0.0017\n",
      "Epoch 18/30\n",
      "284807/284807 [==============================] - 1s 4us/sample - loss: 0.9983 - acc: 0.0017\n",
      "Epoch 19/30\n",
      "284807/284807 [==============================] - 1s 5us/sample - loss: 0.9983 - acc: 0.0017\n",
      "Epoch 20/30\n",
      "284807/284807 [==============================] - 1s 4us/sample - loss: 0.9983 - acc: 0.0017\n",
      "Epoch 21/30\n",
      "284807/284807 [==============================] - 1s 4us/sample - loss: 0.9983 - acc: 0.0017\n",
      "Epoch 22/30\n",
      "284807/284807 [==============================] - 1s 4us/sample - loss: 0.9983 - acc: 0.0017\n",
      "Epoch 23/30\n",
      "284807/284807 [==============================] - 1s 4us/sample - loss: 0.9983 - acc: 0.0017 0s - loss: 0.9983 - ac\n",
      "Epoch 24/30\n",
      "284807/284807 [==============================] - 1s 4us/sample - loss: 0.9983 - acc: 0.0017\n",
      "Epoch 25/30\n",
      "284807/284807 [==============================] - 1s 4us/sample - loss: 0.9983 - acc: 0.0017\n",
      "Epoch 26/30\n",
      "284807/284807 [==============================] - 1s 4us/sample - loss: 0.9983 - acc: 0.0017\n",
      "Epoch 27/30\n",
      "284807/284807 [==============================] - 1s 4us/sample - loss: 0.9983 - acc: 0.0017\n",
      "Epoch 28/30\n",
      "284807/284807 [==============================] - 1s 4us/sample - loss: 0.9983 - acc: 0.0017\n",
      "Epoch 29/30\n",
      "284807/284807 [==============================] - 1s 4us/sample - loss: 0.9983 - acc: 0.0017\n",
      "Epoch 30/30\n",
      "284807/284807 [==============================] - 1s 4us/sample - loss: 0.9983 - acc: 0.0017\n"
     ]
    },
    {
     "data": {
      "image/png": "[encoded data removed]",
      "text/plain": [
       "<Figure size 432x288 with 2 Axes>"
      ]
     },
     "metadata": {
      "needs_background": "light"
     },
     "output_type": "display_data"
    }
   ],
   "source": [
    "from tensorflow.keras.layers import Dense\n",
    "from tensorflow.keras.models import Sequential\n",
    "from tensorflow.keras.optimizers import Adadelta\n",
    "from tensorflow.keras.losses import MeanSquaredError\n",
    "model = Sequential()\n",
    "# Add the first layer\n",
    "model.add(Dense(units = X.shape[1], activation='elu'))\n",
    "# Add the second layer\n",
    "model.add(Dense(64, activation='elu'))\n",
    "model.add(Dense(64, activation='elu'))\n",
    "model.add(Dense(64, activation='elu'))\n",
    "# Add the output layer\n",
    "model.add(Dense(1, activation='softmax'))\n",
    "# Compile the model\n",
    "model.compile(optimizer = Adadelta(lr = 0.5), loss = MeanSquaredError(), metrics = ['accuracy'])\n",
    "# Fit the model\n",
    "history = model.fit(X, Y, batch_size = 10240, epochs = 30, verbose = 1)\n",
    "y_pred = model.predict(X)\n",
    "# Calculate predicted probability of survival: predicted_prob_true\n",
    "#predicted_prob_true =  y_pred[:,1]\n",
    "y_pred_temp = [0 if y_pred[i] <=0.5 else 1 for i in range(len(y_pred))]\n",
    "roc_auc_score(Y, y_pred_temp)\n",
    "#y_pred_temp = ([0 if y_pred[i] == 1 else 1 for i in range(len(y_pred))]).all()\n",
    "# Plot the history\n",
    "fig, ax = plt.subplots(2)\n",
    "ax[0].plot(history.history['loss'])\n",
    "ax[1].plot(Y, y_pred_temp )\n",
    "plt.show()"
   ]
  },
  {
   "cell_type": "markdown",
   "metadata": {},
   "source": [
    "we will get a high reconstruction loss value because the network failed to reconstruct the image/input that is considered an anomaly."
   ]
  },
  {
   "cell_type": "code",
   "execution_count": 6,
   "metadata": {},
   "outputs": [],
   "source": [
    "from sklearn.preprocessing import StandardScaler\n",
    "scaler = StandardScaler()\n",
    "cardsdf_norm = scaler.fit_transform(cardsdf.drop(columns = 'Class'))\n",
    "X = np.array(cardsdf_norm)\n",
    "Y = np.array(cardsdf['Class'])"
   ]
  },
  {
   "cell_type": "code",
   "execution_count": null,
   "metadata": {},
   "outputs": [],
   "source": [
    "from sklearn.metrics import confusion_matrix\n",
    "from keras.callbacks import EarlyStopping\n",
    "import keras\n",
    "from keras.optimizers import SGD\n",
    "from keras.layers import Dense\n",
    "from keras.models import Sequential\n",
    "from tensorflow.keras.losses import MeanSquaredError\n",
    "#columns = cardsdf.columns.tolist()\n",
    "# Filter the columns to remove data we do not want \n",
    "#columns = [c for c in columns if c not in [\"Class\"]]\n",
    "# Store the variable we are predicting \n",
    "#target = \"Class\"\n",
    "#target = to_categorical(Y)\n",
    "#X =  np.array(cardsdf[columns])\n",
    "#Y =  np.array(cardsdf[target])\n",
    "\n",
    "# Define a random state \n",
    "#state = np.random.RandomState(42)\n",
    "#n_outliers = len(Fraud)\n",
    "#lr_to_test = [0.0005, 0.001, 0.005]\n",
    "# Loop over learning rates\n",
    "#for lr in lr_to_test:\n",
    "#    print('\\n\\nTesting model with learning rate: %f\\n'%lr )\n",
    "model1 = Sequential()\n",
    "# Add the first layer\n",
    "model1.add(Dense(units = X.shape[1], activation='elu'))\n",
    "\n",
    "# Add the second layer\n",
    "model1.add(Dense(50, activation='elu'))\n",
    "\n",
    "# Add the output layer\n",
    "model1.add(Dense(1, activation='linear'))\n",
    "my_optimizer = SGD(lr=0.001)\n",
    "#Adadelta = keras.optimizers.Adadelta(lr=0.05, decay = 0.005)\n",
    "# Compile the model\n",
    "model1.compile(optimizer=my_optimizer, loss= MeanSquaredError(), metrics=['accuracy'])\n",
    "early_stopping_monitor = EarlyStopping(patience=2)\n",
    "# Verify that model contains information from compiling\n",
    "#print(\"Loss function: \" + model1.loss)\n",
    "# Fit the model\n",
    "history1 = model1.fit(X, Y, batch_size = 10240, epochs = 100, verbose = False,validation_split=0.3,callbacks=[early_stopping_monitor])\n",
    "# Calculate predictions: predictions\n",
    "predictions1 = model1.predict(X)\n",
    "# Calculate predicted probability of survival: predicted_prob_true\n",
    "#predicted_prob_true1 =  predictions1[:,1]\n",
    "y_pred_temp = [0 if predictions1[i] <= 0.5 else 1 for i in range(len(predictions1))]\n",
    "#print(predicted_prob_true1)\n",
    "model2 = Sequential()\n",
    "# Add the first layer\n",
    "model2.add(Dense(units = X.shape[1], activation='elu'))\n",
    "    \n",
    "# Add the second layer\n",
    "model2.add(Dense(100, activation='elu'))\n",
    "# Add the third layer\n",
    "model2.add(Dense(100, activation='elu'))\n",
    "model2.add(Dense(100, activation='elu'))\n",
    "# Add the output layer\n",
    "model2.add(Dense(1, activation='linear'))\n",
    "my_optimizer = SGD(lr=0.001)\n",
    "#Adadelta = keras.optimizers.Adadelta(lr=0.05, decay = 0.005)\n",
    "# Compile the model\n",
    "model2.compile(optimizer=my_optimizer, loss= MeanSquaredError(), metrics=['accuracy'])\n",
    "early_stopping_monitor = EarlyStopping(patience=2)\n",
    "# Verify that model contains information from compiling\n",
    "#print(\"Loss function: \" + model2.loss)\n",
    "# Fit the model\n",
    "history2 = model2.fit(X, Y, batch_size = 10240, epochs = 100, verbose = False,validation_split=0.3,callbacks=[early_stopping_monitor])\n",
    "# Calculate predictions: predictions\n",
    "predictions2 = model2.predict(X)\n",
    "y_pred_temp2 = [0 if predictions2[i] <= 0.5 else 1 for i in range(len(predictions2))]\n",
    "print(confusion_matrix(Y, y_pred_temp2))\n",
    "#fig, ax = plt.subplots()\n",
    "#ax.plot(Y, y_pred_temp)\n",
    "#plt.show()\n",
    "# Create the plot\n",
    "plt.plot(history1.history['val_loss'], 'r', history2.history['val_loss'], 'b')\n",
    "plt.xlabel('Epochs')\n",
    "plt.ylabel('Validation score')\n",
    "plt.show()"
   ]
  },
  {
   "cell_type": "code",
   "execution_count": 17,
   "metadata": {},
   "outputs": [
    {
     "data": {
      "image/png": "[encoded data removed]",
      "text/plain": [
       "<Figure size 432x288 with 1 Axes>"
      ]
     },
     "metadata": {
      "needs_background": "light"
     },
     "output_type": "display_data"
    }
   ],
   "source": [
    "from sklearn.metrics import roc_auc_score\n",
    "from sklearn.preprocessing import StandardScaler\n",
    "scaler = StandardScaler()\n",
    "cardsdf_norm = scaler.fit_transform(cardsdf.drop(columns = 'Class'))\n",
    "X = np.array(cardsdf_norm)\n",
    "Y = np.array(cardsdf['Class'])\n",
    "\n",
    "predictions1 = model1.predict(X)\n",
    "# Calculate predicted probability of survival: predicted_prob_true\n",
    "#predicted_prob_true1 =  predictions1[:,1]\n",
    "y_pred_temp = [0 if predictions1[i] <=0.5 else 1 for i in range(len(predictions1))]\n",
    "roc_auc_score(Y, y_pred_temp)\n",
    "import sklearn.metrics as metrics\n",
    "# calculate the fpr and tpr for all thresholds of the classification\n",
    "\n",
    "fpr, tpr, threshold = metrics.roc_curve(Y, y_pred_temp)\n",
    "roc_auc = metrics.auc(fpr, tpr)\n",
    "\n",
    "# method I: plt\n",
    "import matplotlib.pyplot as plt\n",
    "plt.title('Receiver Operating Characteristic')\n",
    "plt.plot(fpr, tpr, 'b', label = 'AUC = %0.2f' % roc_auc)\n",
    "plt.legend(loc = 'lower right')\n",
    "plt.plot([0, 1], [0, 1],'r--')\n",
    "plt.xlim([0, 1])\n",
    "plt.ylim([0, 1])\n",
    "plt.ylabel('True Positive Rate')\n",
    "plt.xlabel('False Positive Rate')\n",
    "plt.show()"
   ]
  },
  {
   "cell_type": "code",
   "execution_count": 18,
   "metadata": {},
   "outputs": [
    {
     "data": {
      "image/png": "[encoded data removed]",
      "text/plain": [
       "<Figure size 432x288 with 1 Axes>"
      ]
     },
     "metadata": {
      "needs_background": "light"
     },
     "output_type": "display_data"
    }
   ],
   "source": [
    "from sklearn.metrics import roc_auc_score\n",
    "from sklearn.preprocessing import StandardScaler\n",
    "scaler = StandardScaler()\n",
    "cardsdf_norm = scaler.fit_transform(cardsdf.drop(columns = 'Class'))\n",
    "X = np.array(cardsdf_norm)\n",
    "Y = np.array(cardsdf['Class'])\n",
    "\n",
    "predictions2 = model2.predict(X)\n",
    "# Calculate predicted probability of survival: predicted_prob_true\n",
    "#predicted_prob_true2 =  predictions2[:,1]\n",
    "y_pred_temp2 = [0 if predictions2[i] <=0.5 else 1 for i in range(len(predictions2))]\n",
    "roc_auc_score(Y, y_pred_temp2)\n",
    "import sklearn.metrics as metrics\n",
    "# calculate the fpr and tpr for all thresholds of the classification\n",
    "\n",
    "fpr, tpr, threshold = metrics.roc_curve(Y, y_pred_temp2)\n",
    "roc_auc = metrics.auc(fpr, tpr)\n",
    "\n",
    "# method I: plt\n",
    "import matplotlib.pyplot as plt\n",
    "plt.title('Receiver Operating Characteristic')\n",
    "plt.plot(fpr, tpr, 'b', label = 'AUC = %0.2f' % roc_auc)\n",
    "plt.legend(loc = 'lower right')\n",
    "plt.plot([0, 1], [0, 1],'r--')\n",
    "plt.xlim([0, 1])\n",
    "plt.ylim([0, 1])\n",
    "plt.ylabel('True Positive Rate')\n",
    "plt.xlabel('False Positive Rate')\n",
    "plt.show()"
   ]
  },
  {
   "cell_type": "code",
   "execution_count": null,
   "metadata": {},
   "outputs": [],
   "source": []
  }
 ],
 "metadata": {
  "kernelspec": {
   "display_name": "Python 3",
   "language": "python",
   "name": "python3"
  },
  "language_info": {
   "codemirror_mode": {
    "name": "ipython",
    "version": 3
   },
   "file_extension": ".py",
   "mimetype": "text/x-python",
   "name": "python",
   "nbconvert_exporter": "python",
   "pygments_lexer": "ipython3",
   "version": "3.7.6"
  }
 },
 "nbformat": 4,
 "nbformat_minor": 4
}
