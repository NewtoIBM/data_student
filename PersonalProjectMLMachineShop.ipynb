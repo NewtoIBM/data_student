{
 "cells": [
  {
   "cell_type": "markdown",
   "metadata": {},
   "source": [
    "# Machine Learning, Deep Learning forecast technique for machine operators."
   ]
  },
  {
   "cell_type": "markdown",
   "metadata": {},
   "source": [
    "Objective: Machines shop produces  products  and machine operators are the personnel who service, operate and monitor products  every hour visually and size check every hour. To stop a  machine at the right size and not to oversize , not to undersize products, machine operators use common sense calculating in mind  using experience as historical data to predict time when a machine is done. What if Machine Learning models or Deep Learning models would be used instead? What if to teach a machine to predict when it should be stopped inputting historical data in it and forecast?There are algorithms that already can do this job for the industry:ARIMA, LSTM, even Facebook Prophet which Facebook developed for this purpose.Techniques of time series forecasting could answer business questions like how much inventory to maintain, how much website traffic do you expect in your e-store to how many product will be sold in the next month.\n",
    "This project is an attempt to simulate  a situation and to extract a conclusion from the experiment.\n",
    "\n",
    "The dataset is engineered for simplicity of the experiment as simple and meaningful as  possible to provide enough information for the algorithm to compute its forecast and ready to use without data wrangling.\n"
   ]
  },
  {
   "cell_type": "code",
   "execution_count": 1,
   "metadata": {},
   "outputs": [],
   "source": [
    "import numpy as np\n",
    "import pandas as pd\n",
    "import seaborn as sns\n",
    "import matplotlib as plt"
   ]
  },
  {
   "cell_type": "code",
   "execution_count": 13,
   "metadata": {
    "scrolled": true
   },
   "outputs": [
    {
     "data": {
      "text/html": [
       "<div>\n",
       "<style scoped>\n",
       "    .dataframe tbody tr th:only-of-type {\n",
       "        vertical-align: middle;\n",
       "    }\n",
       "\n",
       "    .dataframe tbody tr th {\n",
       "        vertical-align: top;\n",
       "    }\n",
       "\n",
       "    .dataframe thead th {\n",
       "        text-align: right;\n",
       "    }\n",
       "</style>\n",
       "<table border=\"1\" class=\"dataframe\">\n",
       "  <thead>\n",
       "    <tr style=\"text-align: right;\">\n",
       "      <th></th>\n",
       "      <th>BaseicSize</th>\n",
       "      <th>Start_Size</th>\n",
       "      <th>size2</th>\n",
       "      <th>size3</th>\n",
       "      <th>size4</th>\n",
       "      <th>Time</th>\n",
       "      <th>Gr</th>\n",
       "      <th>Target_Pull_Size</th>\n",
       "    </tr>\n",
       "  </thead>\n",
       "  <tbody>\n",
       "    <tr>\n",
       "      <th>0</th>\n",
       "      <td>3/16</td>\n",
       "      <td>0.00100</td>\n",
       "      <td>0.00090</td>\n",
       "      <td>0.00080</td>\n",
       "      <td>0.00070</td>\n",
       "      <td>2021-01-01</td>\n",
       "      <td>10</td>\n",
       "      <td>0.0001</td>\n",
       "    </tr>\n",
       "    <tr>\n",
       "      <th>1</th>\n",
       "      <td>5/32</td>\n",
       "      <td>0.00060</td>\n",
       "      <td>0.00050</td>\n",
       "      <td>0.00040</td>\n",
       "      <td>0.00030</td>\n",
       "      <td>2021-01-02</td>\n",
       "      <td>25</td>\n",
       "      <td>0.0000</td>\n",
       "    </tr>\n",
       "    <tr>\n",
       "      <th>2</th>\n",
       "      <td>5/16</td>\n",
       "      <td>0.00090</td>\n",
       "      <td>0.00080</td>\n",
       "      <td>0.00060</td>\n",
       "      <td>0.00030</td>\n",
       "      <td>2021-01-03</td>\n",
       "      <td>10</td>\n",
       "      <td>-0.0001</td>\n",
       "    </tr>\n",
       "    <tr>\n",
       "      <th>3</th>\n",
       "      <td>11/32</td>\n",
       "      <td>0.01200</td>\n",
       "      <td>0.00090</td>\n",
       "      <td>0.00060</td>\n",
       "      <td>0.00040</td>\n",
       "      <td>2021-01-04</td>\n",
       "      <td>25</td>\n",
       "      <td>0.0000</td>\n",
       "    </tr>\n",
       "    <tr>\n",
       "      <th>4</th>\n",
       "      <td>5/8</td>\n",
       "      <td>0.01195</td>\n",
       "      <td>0.00085</td>\n",
       "      <td>0.00050</td>\n",
       "      <td>0.00020</td>\n",
       "      <td>2021-01-05</td>\n",
       "      <td>24</td>\n",
       "      <td>0.0000</td>\n",
       "    </tr>\n",
       "    <tr>\n",
       "      <th>5</th>\n",
       "      <td>3/8</td>\n",
       "      <td>0.01528</td>\n",
       "      <td>0.00088</td>\n",
       "      <td>0.00046</td>\n",
       "      <td>0.00011</td>\n",
       "      <td>2021-01-06</td>\n",
       "      <td>10</td>\n",
       "      <td>0.0000</td>\n",
       "    </tr>\n",
       "    <tr>\n",
       "      <th>6</th>\n",
       "      <td>13/32</td>\n",
       "      <td>0.01861</td>\n",
       "      <td>0.00091</td>\n",
       "      <td>0.00042</td>\n",
       "      <td>0.00002</td>\n",
       "      <td>2021-01-07</td>\n",
       "      <td>25</td>\n",
       "      <td>0.0000</td>\n",
       "    </tr>\n",
       "    <tr>\n",
       "      <th>7</th>\n",
       "      <td>3/16</td>\n",
       "      <td>0.02194</td>\n",
       "      <td>0.00094</td>\n",
       "      <td>0.00038</td>\n",
       "      <td>-0.00007</td>\n",
       "      <td>2021-01-08</td>\n",
       "      <td>25</td>\n",
       "      <td>0.0005</td>\n",
       "    </tr>\n",
       "    <tr>\n",
       "      <th>8</th>\n",
       "      <td>5/32</td>\n",
       "      <td>0.02527</td>\n",
       "      <td>0.00097</td>\n",
       "      <td>0.00034</td>\n",
       "      <td>-0.00016</td>\n",
       "      <td>2021-01-09</td>\n",
       "      <td>25</td>\n",
       "      <td>-0.0005</td>\n",
       "    </tr>\n",
       "    <tr>\n",
       "      <th>9</th>\n",
       "      <td>5/16</td>\n",
       "      <td>0.02860</td>\n",
       "      <td>0.00100</td>\n",
       "      <td>0.00030</td>\n",
       "      <td>-0.00025</td>\n",
       "      <td>2021-01-10</td>\n",
       "      <td>25</td>\n",
       "      <td>0.0000</td>\n",
       "    </tr>\n",
       "  </tbody>\n",
       "</table>\n",
       "</div>"
      ],
      "text/plain": [
       "  BaseicSize  Start_Size    size2    size3    size4        Time  Gr  \\\n",
       "0       3/16     0.00100  0.00090  0.00080  0.00070  2021-01-01  10   \n",
       "1       5/32     0.00060  0.00050  0.00040  0.00030  2021-01-02  25   \n",
       "2       5/16     0.00090  0.00080  0.00060  0.00030  2021-01-03  10   \n",
       "3      11/32     0.01200  0.00090  0.00060  0.00040  2021-01-04  25   \n",
       "4        5/8     0.01195  0.00085  0.00050  0.00020  2021-01-05  24   \n",
       "5        3/8     0.01528  0.00088  0.00046  0.00011  2021-01-06  10   \n",
       "6      13/32     0.01861  0.00091  0.00042  0.00002  2021-01-07  25   \n",
       "7       3/16     0.02194  0.00094  0.00038 -0.00007  2021-01-08  25   \n",
       "8       5/32     0.02527  0.00097  0.00034 -0.00016  2021-01-09  25   \n",
       "9       5/16     0.02860  0.00100  0.00030 -0.00025  2021-01-10  25   \n",
       "\n",
       "   Target_Pull_Size  \n",
       "0            0.0001  \n",
       "1            0.0000  \n",
       "2           -0.0001  \n",
       "3            0.0000  \n",
       "4            0.0000  \n",
       "5            0.0000  \n",
       "6            0.0000  \n",
       "7            0.0005  \n",
       "8           -0.0005  \n",
       "9            0.0000  "
      ]
     },
     "execution_count": 13,
     "metadata": {},
     "output_type": "execute_result"
    }
   ],
   "source": [
    "# Import Train and Test Data \n",
    "source = '/Users/Administrator/Desktop/'\n",
    "datafile = pd.read_csv(source + 'MLMachinesShop.csv')\n",
    "chart = pd.DataFrame(datafile)\n",
    "chart"
   ]
  },
  {
   "cell_type": "markdown",
   "metadata": {},
   "source": [
    "### Preparing the dataset for Time Series"
   ]
  },
  {
   "cell_type": "code",
   "execution_count": 14,
   "metadata": {},
   "outputs": [],
   "source": [
    "from datetime import datetime\n",
    "chart['Time']=pd.to_datetime(chart['Time'])"
   ]
  },
  {
   "cell_type": "code",
   "execution_count": 15,
   "metadata": {},
   "outputs": [
    {
     "data": {
      "text/html": [
       "<div>\n",
       "<style scoped>\n",
       "    .dataframe tbody tr th:only-of-type {\n",
       "        vertical-align: middle;\n",
       "    }\n",
       "\n",
       "    .dataframe tbody tr th {\n",
       "        vertical-align: top;\n",
       "    }\n",
       "\n",
       "    .dataframe thead th {\n",
       "        text-align: right;\n",
       "    }\n",
       "</style>\n",
       "<table border=\"1\" class=\"dataframe\">\n",
       "  <thead>\n",
       "    <tr style=\"text-align: right;\">\n",
       "      <th></th>\n",
       "      <th>BaseicSize</th>\n",
       "      <th>Start_Size</th>\n",
       "      <th>size2</th>\n",
       "      <th>size3</th>\n",
       "      <th>size4</th>\n",
       "      <th>Gr</th>\n",
       "      <th>Target_Pull_Size</th>\n",
       "    </tr>\n",
       "    <tr>\n",
       "      <th>Time</th>\n",
       "      <th></th>\n",
       "      <th></th>\n",
       "      <th></th>\n",
       "      <th></th>\n",
       "      <th></th>\n",
       "      <th></th>\n",
       "      <th></th>\n",
       "    </tr>\n",
       "  </thead>\n",
       "  <tbody>\n",
       "    <tr>\n",
       "      <th>2021-01-01</th>\n",
       "      <td>3/16</td>\n",
       "      <td>0.00100</td>\n",
       "      <td>0.00090</td>\n",
       "      <td>0.0008</td>\n",
       "      <td>0.0007</td>\n",
       "      <td>10</td>\n",
       "      <td>0.0001</td>\n",
       "    </tr>\n",
       "    <tr>\n",
       "      <th>2021-01-02</th>\n",
       "      <td>5/32</td>\n",
       "      <td>0.00060</td>\n",
       "      <td>0.00050</td>\n",
       "      <td>0.0004</td>\n",
       "      <td>0.0003</td>\n",
       "      <td>25</td>\n",
       "      <td>0.0000</td>\n",
       "    </tr>\n",
       "    <tr>\n",
       "      <th>2021-01-03</th>\n",
       "      <td>5/16</td>\n",
       "      <td>0.00090</td>\n",
       "      <td>0.00080</td>\n",
       "      <td>0.0006</td>\n",
       "      <td>0.0003</td>\n",
       "      <td>10</td>\n",
       "      <td>-0.0001</td>\n",
       "    </tr>\n",
       "    <tr>\n",
       "      <th>2021-01-04</th>\n",
       "      <td>11/32</td>\n",
       "      <td>0.01200</td>\n",
       "      <td>0.00090</td>\n",
       "      <td>0.0006</td>\n",
       "      <td>0.0004</td>\n",
       "      <td>25</td>\n",
       "      <td>0.0000</td>\n",
       "    </tr>\n",
       "    <tr>\n",
       "      <th>2021-01-05</th>\n",
       "      <td>5/8</td>\n",
       "      <td>0.01195</td>\n",
       "      <td>0.00085</td>\n",
       "      <td>0.0005</td>\n",
       "      <td>0.0002</td>\n",
       "      <td>24</td>\n",
       "      <td>0.0000</td>\n",
       "    </tr>\n",
       "  </tbody>\n",
       "</table>\n",
       "</div>"
      ],
      "text/plain": [
       "           BaseicSize  Start_Size    size2   size3   size4  Gr  \\\n",
       "Time                                                             \n",
       "2021-01-01       3/16     0.00100  0.00090  0.0008  0.0007  10   \n",
       "2021-01-02       5/32     0.00060  0.00050  0.0004  0.0003  25   \n",
       "2021-01-03       5/16     0.00090  0.00080  0.0006  0.0003  10   \n",
       "2021-01-04      11/32     0.01200  0.00090  0.0006  0.0004  25   \n",
       "2021-01-05        5/8     0.01195  0.00085  0.0005  0.0002  24   \n",
       "\n",
       "            Target_Pull_Size  \n",
       "Time                          \n",
       "2021-01-01            0.0001  \n",
       "2021-01-02            0.0000  \n",
       "2021-01-03           -0.0001  \n",
       "2021-01-04            0.0000  \n",
       "2021-01-05            0.0000  "
      ]
     },
     "execution_count": 15,
     "metadata": {},
     "output_type": "execute_result"
    }
   ],
   "source": [
    "chart=chart.set_index('Time')\n",
    "chart.head()"
   ]
  },
  {
   "cell_type": "markdown",
   "metadata": {},
   "source": [
    "#### X  and Y regressor and predictor."
   ]
  },
  {
   "cell_type": "code",
   "execution_count": 16,
   "metadata": {},
   "outputs": [],
   "source": [
    "#x and y axes input data\n",
    "y = chart['size4']\n",
    "x =  chart.drop(['size4'], axis = 1)"
   ]
  },
  {
   "cell_type": "markdown",
   "metadata": {},
   "source": [
    "Peeking at how  Y data  trend behaves"
   ]
  },
  {
   "cell_type": "code",
   "execution_count": 17,
   "metadata": {},
   "outputs": [
    {
     "data": {
      "text/plain": [
       "<matplotlib.axes._subplots.AxesSubplot at 0x1ff50092ba8>"
      ]
     },
     "execution_count": 17,
     "metadata": {},
     "output_type": "execute_result"
    },
    {
     "data": {
      "image/png": "[encoded data removed]",
      "text/plain": [
       "<Figure size 432x288 with 1 Axes>"
      ]
     },
     "metadata": {
      "needs_background": "light"
     },
     "output_type": "display_data"
    }
   ],
   "source": [
    "y.plot()"
   ]
  },
  {
   "cell_type": "markdown",
   "metadata": {},
   "source": [
    "When doing time series analysis we always have to check for stationarity. Imprecisely, a time series dataset is stationary just if its statistical features don't change over time. A little more precisely, a stationary time series dataset will have constant mean, variance, and covariance.\n",
    "\n",
    "There are many ways to test for stationarity, but one of the most common is the KPSS test. The Null hypothesis of this test is that the time series data in question is stationary; hence, if the p-value is less than the significance level (typically 0.05, but we decide) then we reject the Null and infer that the data is not stationary"
   ]
  },
  {
   "cell_type": "code",
   "execution_count": 21,
   "metadata": {},
   "outputs": [
    {
     "data": {
      "text/plain": [
       "(0.41374484315404353,\n",
       " 0.0712306710542916,\n",
       " 7,\n",
       " {'10%': 0.347, '5%': 0.463, '2.5%': 0.574, '1%': 0.739})"
      ]
     },
     "execution_count": 21,
     "metadata": {},
     "output_type": "execute_result"
    }
   ],
   "source": [
    "from statsmodels.tsa.stattools import kpss\n",
    "kpss(y,nlags='legacy')"
   ]
  },
  {
   "cell_type": "markdown",
   "metadata": {},
   "source": [
    "Our p-value is now greater than 0.05, so we can accept the null hypothesis that our data is stationary."
   ]
  },
  {
   "cell_type": "code",
   "execution_count": 22,
   "metadata": {},
   "outputs": [],
   "source": [
    "#preprocessing \n",
    "from sklearn.preprocessing import OneHotEncoder\n",
    "traindfcat = x.select_dtypes(include ='object') \n",
    "enc = OneHotEncoder(sparse=False)\n",
    "X_transfCat = enc.fit_transform(traindfcat)"
   ]
  },
  {
   "cell_type": "markdown",
   "metadata": {},
   "source": [
    "### The ARIMA model"
   ]
  },
  {
   "cell_type": "markdown",
   "metadata": {},
   "source": [
    "ARIMA models are based around the idea that it's possible to predict the next value in a time series by using information about the most recent data points. It also assumes there will be some randomness in our data that can't ever be predicted.\n",
    "\n",
    "We can find some good parameters for our model using the sklearn and statsmodels libraries, and in particular mean_squared_error and ARIMA."
   ]
  },
  {
   "cell_type": "code",
   "execution_count": 24,
   "metadata": {},
   "outputs": [],
   "source": [
    "# Import mean_squared_error and ARIMA\n",
    "from sklearn.metrics import mean_squared_error\n",
    "from statsmodels.tsa.arima_model import ARIMA"
   ]
  },
  {
   "cell_type": "markdown",
   "metadata": {},
   "source": [
    "Make a function to find the MSE of a single ARIMA model¶"
   ]
  },
  {
   "cell_type": "code",
   "execution_count": 25,
   "metadata": {},
   "outputs": [],
   "source": [
    "# Make a function called evaluate_arima_model to find the MSE of a single ARIMA model \n",
    "def evaluate_arima_model(data, arima_order):\n",
    "    # Needs to be an integer because it is later used as an index.\n",
    "    # Use int()\n",
    "    split=int(len(data) * 0.8) \n",
    "    # Make train and test variables, with 'train, test'\n",
    "    train, test = data[0:split], data[split:len(data)]\n",
    "    past=[x for x in train]\n",
    "    # make predictions\n",
    "    predictions = list()\n",
    "    for i in range(len(test)):#timestep-wise comparison between test data and one-step prediction ARIMA model. \n",
    "        model = ARIMA(past, order=arima_order)\n",
    "        model_fit = model.fit(disp=0)\n",
    "        future = model_fit.forecast()[0]\n",
    "        predictions.append(future)\n",
    "        past.append(test[i])\n",
    "    # calculate out of sample error\n",
    "    error = mean_squared_error(test, predictions)\n",
    "    # Return the error\n",
    "    return error"
   ]
  },
  {
   "cell_type": "markdown",
   "metadata": {},
   "source": [
    "Make a function to evaluate the different ARIMA models with different p, d, and q values"
   ]
  },
  {
   "cell_type": "code",
   "execution_count": 26,
   "metadata": {},
   "outputs": [],
   "source": [
    "# Make a function called evaluate_models to evaluate different ARIMA models with several different p, d, and q values.\n",
    "def evaluate_models(dataset, p_values, d_values, q_values):\n",
    "    best_score, best_cfg = float(\"inf\"), None\n",
    "    # Iterate through p_values\n",
    "    for p in p_values:\n",
    "        # Iterate through d_values\n",
    "        for d in d_values:\n",
    "            # Iterate through q_values\n",
    "            for q in q_values:\n",
    "                # p, d, q iterator variables in that order\n",
    "                order = (p,d,q)\n",
    "                try:\n",
    "                    # Make a variable called mse for the Mean squared error\n",
    "                    mse = evaluate_arima_model(dataset, order)\n",
    "                    if mse < best_score:\n",
    "                        best_score, best_cfg = mse, order\n",
    "                    print('ARIMA%s MSE=%.3f' % (order,mse))\n",
    "                except:\n",
    "                    continue\n",
    "    return print('Best ARIMA%s MSE=%.3f' % (best_cfg, best_score))"
   ]
  },
  {
   "cell_type": "code",
   "execution_count": 27,
   "metadata": {},
   "outputs": [],
   "source": [
    "# Now, we choose a couple of values to try for each parameter: p_values, d_values and q_values\n",
    "# Fill in the blanks as appropriate\n",
    "p_values = [x for x in range(0, 3)]\n",
    "d_values = [x for x in range(0, 3)]\n",
    "q_values = [x for x in range(0, 3)]"
   ]
  },
  {
   "cell_type": "code",
   "execution_count": 29,
   "metadata": {},
   "outputs": [
    {
     "name": "stdout",
     "output_type": "stream",
     "text": [
      "ARIMA(0, 0, 0) MSE=0.000\n",
      "ARIMA(0, 0, 1) MSE=0.000\n",
      "ARIMA(0, 0, 2) MSE=0.000\n",
      "ARIMA(0, 1, 0) MSE=0.000\n",
      "ARIMA(0, 1, 1) MSE=0.000\n",
      "ARIMA(0, 1, 2) MSE=0.000\n",
      "ARIMA(0, 2, 0) MSE=0.000\n",
      "ARIMA(0, 2, 1) MSE=0.000\n",
      "ARIMA(1, 0, 0) MSE=0.000\n",
      "ARIMA(1, 1, 0) MSE=0.000\n",
      "ARIMA(1, 2, 0) MSE=0.000\n",
      "ARIMA(2, 0, 0) MSE=0.000\n",
      "ARIMA(2, 1, 0) MSE=0.000\n",
      "ARIMA(2, 2, 0) MSE=0.000\n",
      "Best ARIMA(0, 1, 1) MSE=0.000\n"
     ]
    }
   ],
   "source": [
    "# Finally, we can find the optimum ARIMA model for our data.\n",
    "# Nb. this can take a while...!\n",
    "import warnings\n",
    "warnings.filterwarnings(\"ignore\")\n",
    "evaluate_models(y, p_values, d_values, q_values)"
   ]
  },
  {
   "cell_type": "code",
   "execution_count": 30,
   "metadata": {},
   "outputs": [],
   "source": [
    "p=0\n",
    "d=1\n",
    "q=1\n",
    "model = ARIMA(y, order=(p,d,q))\n",
    "model_fit = model.fit()\n",
    "forecast = model_fit.forecast(24)"
   ]
  },
  {
   "cell_type": "code",
   "execution_count": 31,
   "metadata": {},
   "outputs": [
    {
     "data": {
      "text/html": [
       "<table class=\"simpletable\">\n",
       "<caption>ARIMA Model Results</caption>\n",
       "<tr>\n",
       "  <th>Dep. Variable:</th>      <td>D.size4</td>     <th>  No. Observations:  </th>     <td>9</td>   \n",
       "</tr>\n",
       "<tr>\n",
       "  <th>Model:</th>          <td>ARIMA(0, 1, 1)</td>  <th>  Log Likelihood     </th>  <td>70.299</td> \n",
       "</tr>\n",
       "<tr>\n",
       "  <th>Method:</th>             <td>css-mle</td>     <th>  S.D. of innovations</th>   <td>0.000</td> \n",
       "</tr>\n",
       "<tr>\n",
       "  <th>Date:</th>          <td>Sun, 10 Jan 2021</td> <th>  AIC                </th> <td>-134.599</td>\n",
       "</tr>\n",
       "<tr>\n",
       "  <th>Time:</th>              <td>17:03:30</td>     <th>  BIC                </th> <td>-134.007</td>\n",
       "</tr>\n",
       "<tr>\n",
       "  <th>Sample:</th>           <td>01-02-2021</td>    <th>  HQIC               </th> <td>-135.875</td>\n",
       "</tr>\n",
       "<tr>\n",
       "  <th></th>                 <td>- 01-10-2021</td>   <th>                     </th>     <td> </td>   \n",
       "</tr>\n",
       "</table>\n",
       "<table class=\"simpletable\">\n",
       "<tr>\n",
       "        <td></td>           <th>coef</th>     <th>std err</th>      <th>z</th>      <th>P>|z|</th>  <th>[0.025</th>    <th>0.975]</th>  \n",
       "</tr>\n",
       "<tr>\n",
       "  <th>const</th>         <td>    -9e-05</td> <td>  9.5e-06</td> <td>   -9.474</td> <td> 0.000</td> <td>   -0.000</td> <td>-7.14e-05</td>\n",
       "</tr>\n",
       "<tr>\n",
       "  <th>ma.L1.D.size4</th> <td>   -0.9979</td> <td>    0.286</td> <td>   -3.485</td> <td> 0.000</td> <td>   -1.559</td> <td>   -0.437</td>\n",
       "</tr>\n",
       "</table>\n",
       "<table class=\"simpletable\">\n",
       "<caption>Roots</caption>\n",
       "<tr>\n",
       "    <td></td>   <th>            Real</th>  <th>         Imaginary</th> <th>         Modulus</th>  <th>        Frequency</th>\n",
       "</tr>\n",
       "<tr>\n",
       "  <th>MA.1</th> <td>           1.0021</td> <td>          +0.0000j</td> <td>           1.0021</td> <td>           0.0000</td>\n",
       "</tr>\n",
       "</table>"
      ],
      "text/plain": [
       "<class 'statsmodels.iolib.summary.Summary'>\n",
       "\"\"\"\n",
       "                             ARIMA Model Results                              \n",
       "==============================================================================\n",
       "Dep. Variable:                D.size4   No. Observations:                    9\n",
       "Model:                 ARIMA(0, 1, 1)   Log Likelihood                  70.299\n",
       "Method:                       css-mle   S.D. of innovations              0.000\n",
       "Date:                Sun, 10 Jan 2021   AIC                           -134.599\n",
       "Time:                        17:03:30   BIC                           -134.007\n",
       "Sample:                    01-02-2021   HQIC                          -135.875\n",
       "                         - 01-10-2021                                         \n",
       "=================================================================================\n",
       "                    coef    std err          z      P>|z|      [0.025      0.975]\n",
       "---------------------------------------------------------------------------------\n",
       "const             -9e-05    9.5e-06     -9.474      0.000      -0.000   -7.14e-05\n",
       "ma.L1.D.size4    -0.9979      0.286     -3.485      0.000      -1.559      -0.437\n",
       "                                    Roots                                    \n",
       "=============================================================================\n",
       "                  Real          Imaginary           Modulus         Frequency\n",
       "-----------------------------------------------------------------------------\n",
       "MA.1            1.0021           +0.0000j            1.0021            0.0000\n",
       "-----------------------------------------------------------------------------\n",
       "\"\"\""
      ]
     },
     "execution_count": 31,
     "metadata": {},
     "output_type": "execute_result"
    }
   ],
   "source": [
    "model_fit.summary()"
   ]
  },
  {
   "cell_type": "code",
   "execution_count": 42,
   "metadata": {},
   "outputs": [
    {
     "data": {
      "text/plain": [
       "[<matplotlib.lines.Line2D at 0x1ff5104d358>]"
      ]
     },
     "execution_count": 42,
     "metadata": {},
     "output_type": "execute_result"
    },
    {
     "data": {
      "image/png": "[encoded data removed]",
      "text/plain": [
       "<Figure size 1224x360 with 1 Axes>"
      ]
     },
     "metadata": {
      "needs_background": "light"
     },
     "output_type": "display_data"
    }
   ],
   "source": [
    "import matplotlib as plt\n",
    "\n",
    "from matplotlib import *\n",
    "import sys\n",
    "import pylab as pl\n",
    "pl.figure( figsize =(17,5) )\n",
    "pl.plot(y.diff())\n",
    "pl.plot(model_fit.predict(),color='red')"
   ]
  },
  {
   "cell_type": "markdown",
   "metadata": {},
   "source": [
    "Model fits pretty closely to our actual data. "
   ]
  },
  {
   "cell_type": "markdown",
   "metadata": {},
   "source": [
    "#### Application: Forecasting"
   ]
  },
  {
   "cell_type": "code",
   "execution_count": 53,
   "metadata": {},
   "outputs": [
    {
     "data": {
      "image/png": "[encoded data removed]",
      "text/plain": [
       "<Figure size 1080x720 with 1 Axes>"
      ]
     },
     "metadata": {
      "needs_background": "light"
     },
     "output_type": "display_data"
    }
   ],
   "source": [
    "# Declare a variable called forecast_period with the amount of months to forecast, and\n",
    "# create a range of future dates that is the length of the periods you've chosen to forecast\n",
    "from matplotlib import *\n",
    "import sys\n",
    "import pylab as pl\n",
    "forecast_period = 24\n",
    "date_range = pd.date_range(y.index[-1], periods = forecast_period, \n",
    "              freq='MS').strftime(\"%Y-%m-%d\").tolist()\n",
    "\n",
    "# Convert that range into a dataframe that includes your predictions\n",
    "\n",
    "future_months = pd.DataFrame(date_range, columns = ['Month'])\n",
    "future_months['Month'] = pd.to_datetime(future_months['Month'])\n",
    "future_months.set_index('Month', inplace = True)\n",
    "future_months['Prediction'] = forecast[0]\n",
    "\n",
    "# Plot your future predictions\n",
    "pl.figure(figsize=(15,10))\n",
    "pl.plot(y)\n",
    "pl.plot(y['2021'].append(future_months['Prediction']))\n",
    "pl.show()"
   ]
  },
  {
   "cell_type": "markdown",
   "metadata": {},
   "source": [
    "### Evaluating and Concluding"
   ]
  },
  {
   "cell_type": "code",
   "execution_count": null,
   "metadata": {},
   "outputs": [],
   "source": []
  }
 ],
 "metadata": {
  "kernelspec": {
   "display_name": "Python 3",
   "language": "python",
   "name": "python3"
  },
  "language_info": {
   "codemirror_mode": {
    "name": "ipython",
    "version": 3
   },
   "file_extension": ".py",
   "mimetype": "text/x-python",
   "name": "python",
   "nbconvert_exporter": "python",
   "pygments_lexer": "ipython3",
   "version": "3.6.10"
  }
 },
 "nbformat": 4,
 "nbformat_minor": 4
}
