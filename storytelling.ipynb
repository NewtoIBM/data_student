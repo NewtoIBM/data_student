{
 "cells": [
  {
   "cell_type": "code",
   "execution_count": 2,
   "metadata": {},
   "outputs": [],
   "source": [
    "import pandas as pd\n",
    "import csv\n",
    "import scipy.stats\n",
    "import matplotlib.pyplot as plt\n",
    "import seaborn as sns"
   ]
  },
  {
   "cell_type": "code",
   "execution_count": 6,
   "metadata": {},
   "outputs": [
    {
     "data": {
      "text/plain": [
       "Count      0        605\n",
       "           1       2349\n",
       "           2       3624\n",
       "           3       4685\n",
       "           4       2030\n",
       "                   ... \n",
       "label_num  5166       0\n",
       "           5167       0\n",
       "           5168       0\n",
       "           5169       0\n",
       "           5170       1\n",
       "Length: 20684, dtype: object"
      ]
     },
     "execution_count": 6,
     "metadata": {},
     "output_type": "execute_result"
    }
   ],
   "source": [
    "#importing a file and manipilating data\n",
    "file = 'spam_ham_dataset.csv'\n",
    "df = pd.read_csv(file ) # setting a column 'label' as index\n",
    "df.set_index('label')\n",
    "df2 = df.unstack()\n",
    "df2"
   ]
  },
  {
   "cell_type": "code",
   "execution_count": 24,
   "metadata": {},
   "outputs": [
    {
     "data": {
      "text/plain": [
       "0     Count                                                      605\n",
       "      label                                                      ham\n",
       "      text         Subject: enron methanol ; meter # : 988291\\nth...\n",
       "      label_num                                                    0\n",
       "1     Count                                                     2349\n",
       "                                         ...                        \n",
       "5169  label_num                                                    0\n",
       "5170  Count                                                     4807\n",
       "      label                                                     spam\n",
       "      text         Subject: important online banking alert\\ndear ...\n",
       "      label_num                                                    1\n",
       "Length: 20684, dtype: object"
      ]
     },
     "execution_count": 24,
     "metadata": {},
     "output_type": "execute_result"
    }
   ],
   "source": [
    "df3=df.stack()\n",
    "df3x"
   ]
  },
  {
   "cell_type": "markdown",
   "metadata": {},
   "source": [
    "# visualizing my data and dataframe for data storytelling"
   ]
  },
  {
   "cell_type": "code",
   "execution_count": 8,
   "metadata": {},
   "outputs": [
    {
     "data": {
      "text/plain": [
       "<bound method NDFrame.head of       Count label                                               text  \\\n",
       "0       605   ham  Subject: enron methanol ; meter # : 988291\\nth...   \n",
       "1      2349   ham  Subject: hpl nom for january 9 , 2001\\n( see a...   \n",
       "2      3624   ham  Subject: neon retreat\\nho ho ho , we ' re arou...   \n",
       "3      4685  spam  Subject: photoshop , windows , office . cheap ...   \n",
       "4      2030   ham  Subject: re : indian springs\\nthis deal is to ...   \n",
       "...     ...   ...                                                ...   \n",
       "5166   1518   ham  Subject: put the 10 on the ft\\nthe transport v...   \n",
       "5167    404   ham  Subject: 3 / 4 / 2000 and following noms\\nhpl ...   \n",
       "5168   2933   ham  Subject: calpine daily gas nomination\\n>\\n>\\nj...   \n",
       "5169   1409   ham  Subject: industrial worksheets for august 2000...   \n",
       "5170   4807  spam  Subject: important online banking alert\\ndear ...   \n",
       "\n",
       "      label_num  \n",
       "0             0  \n",
       "1             0  \n",
       "2             0  \n",
       "3             1  \n",
       "4             0  \n",
       "...         ...  \n",
       "5166          0  \n",
       "5167          0  \n",
       "5168          0  \n",
       "5169          0  \n",
       "5170          1  \n",
       "\n",
       "[5171 rows x 4 columns]>"
      ]
     },
     "execution_count": 8,
     "metadata": {},
     "output_type": "execute_result"
    },
    {
     "data": {
      "image/png": "[encoded data removed]",
      "text/plain": [
       "<Figure size 720x288 with 2 Axes>"
      ]
     },
     "metadata": {},
     "output_type": "display_data"
    }
   ],
   "source": [
    "#df.plot.title('Ham and Spam')\n",
    "\n",
    "#plt.xlabel('labels')\n",
    "#plt.ylabel('volume')\n",
    "#df.style.use('fivethirtyeight')\n",
    "sns.set_style(\"darkgrid\")\n",
    "\n",
    "#df.bar(x, height)\n",
    "#df.hist(x, bins=2)\n",
    "#df.plot.hist('label', rot=45 ); plt.title('ham and spam')\n",
    "#df.plot(kind='hist', histtype='step', bins=30, rot=45 ); plt.title('ham and spam')\n",
    "#df.plot(kind='box')\n",
    "#df.plot.scatter('label_num', 'label');plt.title('ham and spam')\n",
    "plt.figure(figsize=(10,4))\n",
    "#df.style.use('ggplot')\n",
    "plt.ylim(0, 5000)\n",
    "plt.axis(ymin=0, ymax=5000)\n",
    "_ =plt.subplot(1,2,1); df.label_num.value_counts().plot(kind='bar', rot=0, color=['C0','C1'] );plt.title('ham and spam');plt.xlabel('labels')\n",
    "plt.ylabel('volume')\n",
    "_ =plt.subplot(1,2,2); df.label.value_counts().plot(kind='bar', rot=45,color=['C2','C3'] );plt.title('ham and spam');plt.xlabel('labels')\n",
    "plt.ylabel('volume')\n",
    "plt.plot(kind ='bar', stacked=True)\n",
    "plt.savefig('output.png')\n",
    "#df.plot( rot=45 )\n",
    "df.head\n",
    "#df.query(label=='1')"
   ]
  },
  {
   "cell_type": "markdown",
   "metadata": {},
   "source": [
    "# questions\n",
    "\n",
    "\n",
    "#Can you count something interesting? \n",
    "Yes.  Using value counts function I can count how many words or characters contain 'spam' or 'ham' respectevely. And Interesting fact is that 'spam' contains less words than 'ham'.\n",
    "\n",
    "#Can you find trends (e.g. high, low, increasing, decreasing, anomalies)? \n",
    "'Spam' tends to be less volume of words in count than 'ham'. Is this due to contents of email or quantity of emails that contain 'spam'?\n",
    "\n",
    "#Can you make a bar plot or a histogram? \n",
    "Yes and I should. I am comparing two categorical variables here 'Ham' and 'Spam'. Two bins represent my two variables and compares for each volume of the text.\n",
    "\n",
    "#Can you compare two related quantities?\n",
    "Sure and I should. My dataset is designed for two variables \"Ham\" and \"Spam\" and the other data is their volume to compare which one has more and which one has less. \n",
    "\n",
    "#Can you make a scatterplot?\n",
    "Scatterplot is usually used for multiple variables like many countries and their values. I have only two. There is no reason to plot a scatterplot for my dataset.\n",
    "\n",
    "#Can you make a time-series plot?\n",
    "No, I do not have data for like dates and years to plot time series.\n",
    "\n",
    "#Looking at the plots, what are some insights you can make? Do you see any correlations? Is there a hypothesis you’d like to investigate further? What other questions do the insights lead you to ask?\n",
    "Well. I do not have much data and variables to predict something . This is very simple plot that represents hom many words in this dataset is 'spam' and how many words is 'ham'. We can also classify it . \n",
    "\n",
    "\n",
    "#Now that you’ve asked questions, hopefully you’ve found some interesting insights. Is there a narrative or a way of presenting the insights using text and plots that tells a compelling story? What are some other trends/relationships you think will make the story more complete?\n"
   ]
  }
 ],
 "metadata": {
  "kernelspec": {
   "display_name": "Python 3",
   "language": "python",
   "name": "python3"
  },
  "language_info": {
   "codemirror_mode": {
    "name": "ipython",
    "version": 3
   },
   "file_extension": ".py",
   "mimetype": "text/x-python",
   "name": "python",
   "nbconvert_exporter": "python",
   "pygments_lexer": "ipython3",
   "version": "3.7.4"
  }
 },
 "nbformat": 4,
 "nbformat_minor": 2
}
