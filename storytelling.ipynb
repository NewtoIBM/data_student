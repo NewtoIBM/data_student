{
 "cells": [
  {
   "cell_type": "code",
   "execution_count": 18,
   "metadata": {},
   "outputs": [],
   "source": [
    "import numpy as np\n",
    "import pandas as pd\n",
    "import matplotlib\n",
    "import csv\n",
    "import scipy.stats\n",
    "import matplotlib.pyplot as plt\n",
    "import seaborn as sns"
   ]
  },
  {
   "cell_type": "code",
   "execution_count": 14,
   "metadata": {},
   "outputs": [
    {
     "data": {
      "text/plain": [
       "Count      0        605\n",
       "           1       2349\n",
       "           2       3624\n",
       "           3       4685\n",
       "           4       2030\n",
       "                   ... \n",
       "label_num  5166       0\n",
       "           5167       0\n",
       "           5168       0\n",
       "           5169       0\n",
       "           5170       1\n",
       "Length: 20684, dtype: object"
      ]
     },
     "execution_count": 14,
     "metadata": {},
     "output_type": "execute_result"
    }
   ],
   "source": [
    "#importing a file and manipilating data\n",
    "file = 'spam_ham_dataset.csv'\n",
    "df = pd.read_csv(file ) # setting a column 'label' as index\n",
    "df.set_index('label')\n",
    "df2 = df.unstack()\n",
    "df2"
   ]
  },
  {
   "cell_type": "code",
   "execution_count": 24,
   "metadata": {},
   "outputs": [
    {
     "data": {
      "text/plain": [
       "0     Count                                                      605\n",
       "      label                                                      ham\n",
       "      text         Subject: enron methanol ; meter # : 988291\\nth...\n",
       "      label_num                                                    0\n",
       "1     Count                                                     2349\n",
       "                                         ...                        \n",
       "5169  label_num                                                    0\n",
       "5170  Count                                                     4807\n",
       "      label                                                     spam\n",
       "      text         Subject: important online banking alert\\ndear ...\n",
       "      label_num                                                    1\n",
       "Length: 20684, dtype: object"
      ]
     },
     "execution_count": 24,
     "metadata": {},
     "output_type": "execute_result"
    }
   ],
   "source": [
    "df3=df.stack()\n",
    "df3"
   ]
  },
  {
   "cell_type": "markdown",
   "metadata": {},
   "source": [
    "# visualizing my data and dataframe for data storytelling"
   ]
  },
  {
   "cell_type": "code",
   "execution_count": 23,
   "metadata": {},
   "outputs": [
    {
     "data": {
      "image/png": "[encoded data removed]",
      "text/plain": [
       "<Figure size 720x288 with 2 Axes>"
      ]
     },
     "metadata": {},
     "output_type": "display_data"
    }
   ],
   "source": [
    "#df.plot.title('Ham and Spam')\n",
    "#df.xlabel('Ham')\n",
    "#df.ylabel('Spam')\n",
    "#df.style.use('fivethirtyeight')\n",
    "sns.set_style(\"darkgrid\")\n",
    "\n",
    "#df.bar(x, height)\n",
    "#df.hist(x, bins=2)\n",
    "#df.plot.hist('label', rot=45 ); plt.title('ham and spam')\n",
    "#df.plot(kind='hist', histtype='step', bins=30, rot=45 ); plt.title('ham and spam')\n",
    "#df.plot(kind='box')\n",
    "#df.plot.scatter('label_num', 'label');plt.title('ham and spam')\n",
    "plt.figure(figsize=(10,4))\n",
    "#df.style.use('ggplot')\n",
    "plt.ylim(0, 5000)\n",
    "plt.axis(ymin=0, ymax=5000)\n",
    "plt.subplot(1,2,1); df.label_num.value_counts().plot(kind='bar', rot=45, color=['C0','C1'] );plt.title('ham and spam')\n",
    "plt.subplot(1,2,2); df.label.value_counts().plot(kind='bar', rot=45,color=['C2','C3'] );plt.title('ham and spam')\n",
    "plt.plot(kind ='bar', stacked=True)\n",
    "plt.savefig('output.png')\n",
    "#df.plot( rot=45 )\n",
    "#df.show(df.head)\n",
    "#df.query(label=='1')"
   ]
  },
  {
   "cell_type": "markdown",
   "metadata": {},
   "source": [
    "# questions\n",
    "\n",
    "\n",
    "Can you count something interesting? \n",
    "\n",
    "Can you find trends (e.g. high, low, increasing, decreasing, anomalies)? \n",
    "\n",
    "Can you make a bar plot or a histogram? \n",
    "\n",
    "Can you compare two related quantities?\n",
    "\n",
    "Can you make a scatterplot?\n",
    "\n",
    "Can you make a time-series plot?\n",
    "No, I do not have data for like dates and years to plot time series.\n",
    "\n",
    "Looking at the plots, what are some insights you can make? Do you see any correlations? Is there a hypothesis you’d like to investigate further? What other questions do the insights lead you to ask?\n",
    "\n",
    "\n",
    "Now that you’ve asked questions, hopefully you’ve found some interesting insights. Is there a narrative or a way of presenting the insights using text and plots that tells a compelling story? What are some other trends/relationships you think will make the story more complete?\n"
   ]
  }
 ],
 "metadata": {
  "kernelspec": {
   "display_name": "Python 3",
   "language": "python",
   "name": "python3"
  },
  "language_info": {
   "codemirror_mode": {
    "name": "ipython",
    "version": 3
   },
   "file_extension": ".py",
   "mimetype": "text/x-python",
   "name": "python",
   "nbconvert_exporter": "python",
   "pygments_lexer": "ipython3",
   "version": "3.7.4"
  }
 },
 "nbformat": 4,
 "nbformat_minor": 2
}
