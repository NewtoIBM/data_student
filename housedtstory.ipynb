{
 "cells": [
  {
   "cell_type": "code",
   "execution_count": 2,
   "metadata": {},
   "outputs": [],
   "source": [
    "import pandas as pd\n",
    "import matplotlib\n",
    "import csv\n",
    "import numpy as np\n",
    "import scipy.stats\n",
    "import matplotlib.pyplot as plt\n",
    "import seaborn as sns"
   ]
  },
  {
   "cell_type": "code",
   "execution_count": 3,
   "metadata": {},
   "outputs": [
    {
     "name": "stdout",
     "output_type": "stream",
     "text": [
      "Street     Grvl   Pave\n",
      "SalePrice             \n",
      "34900       NaN   60.0\n",
      "35311       NaN   50.0\n",
      "37900       NaN   50.0\n",
      "39300       NaN   50.0\n",
      "40000       NaN   50.0\n",
      "...         ...    ...\n",
      "582933      NaN  107.0\n",
      "611657      NaN  100.0\n",
      "625000      NaN  118.0\n",
      "745000      NaN  160.0\n",
      "755000      NaN  104.0\n",
      "\n",
      "[597 rows x 2 columns]\n"
     ]
    }
   ],
   "source": [
    "file =  '/Users/egoretc/Desktop/'\n",
    "#file2 =  '/Users/egoretc/Desktop/'\n",
    "#df = pd.read_csv(file + 'sample_submission.csv', error_bad_lines=False) \n",
    "#df2 = pd.read_csv(file + 'test.csv', error_bad_lines=False) \n",
    "df3 = pd.read_csv(file + 'train.csv', error_bad_lines=False) \n",
    "#df4 = pd.read_csv(file2 + 'data_description.txt', error_bad_lines=False) \n",
    "#df5= df.melt(['text', 'Count'],['label','label_num'],'ham','spam')        #(frame=df, id_vars='label')\n",
    "#df5 = df3.unstack()\n",
    "df6= df3.pivot_table(index='SalePrice',columns='Street', values='LotFrontage')\n",
    "print(df6)\n",
    "#print(df4)\n",
    "#print(df5)"
   ]
  },
  {
   "cell_type": "markdown",
   "metadata": {},
   "source": [
    "# visualization of my data and dataframe for data storytelling"
   ]
  },
  {
   "cell_type": "code",
   "execution_count": null,
   "metadata": {},
   "outputs": [],
   "source": [
    "#sns.set_style(\"darkgrid\")\n",
    "#df3.plot.hist(alpha=0.5)\n",
    "df3.plot.bar(stacked=True)\n",
    "#df.bar(x, height)\n",
    "#plt.hist('SalePrice' ,  bins=30)\n",
    "#df.plot.hist('df3', rot=45 ); plt.title('ham and spam')\n",
    "#plt.plot(kind='hist', histtype='step', bins=30, rot=45 ) #; plt.title('ham and spam')\n",
    "#df.plot(kind='box')\n",
    "#df3.plot.scatter(x='SalePrice',\n",
    "\n",
    "                      #y='FullBath',\n",
    "\n",
    "                      #c='SalePrice',\n",
    "\n",
    "                      #colormap='OrRd') ;plt.title('Sales Price and House Regression');plt.xlabel('sale prices')\n",
    "#df3.plot.scatter(x='SalePrice',\n",
    "\n",
    "                     # y='PoolArea',\n",
    "\n",
    "                      #c='SalePrice',\n",
    "\n",
    "                      #colormap='OrRd') ;plt.title('Sales Price and House Regression');plt.xlabel('sale prices')\n",
    "#df3.plot(kind='box')\n",
    "#plt.figure(figsize=(40,10))\n",
    "plt.style.use('fast')\n",
    "#plt.ylim(0, 5000)\n",
    "#plt.axis(ymin=0, ymax=5000)\n",
    "#_ =plt.subplot(1,2,1); df.the.value_counts().plot(kind='bar', rot=0, color=['C0','C1'] );plt.title('ham and spam');plt.xlabel('labels')\n",
    "#plt.ylabel('volume')\n",
    "#_ =plt.subplot(1,2,2); df.to.value_counts().plot(kind='bar', rot=45,color=['C2','C3'] );plt.title('ham and spam');plt.xlabel('labels')\n",
    "#plt.xlabel('sales price')\n",
    "#plt.plot(r', stacked=True)\n",
    "#plt.savefig('output.png')\n",
    "#df.plot( rot=45 )\n",
    "plt.show()\n",
    "#df.query(label=='1')"
   ]
  },
  {
   "cell_type": "markdown",
   "metadata": {},
   "source": [
    "# questions"
   ]
  },
  {
   "cell_type": "markdown",
   "metadata": {},
   "source": [
    "\n",
    "\n",
    "#Can you count something interesting? \n",
    "\n",
    "Yes. Very expensive houses have outliers. This needs to be tested if this true ar false.\n",
    "\n",
    "#Can you find trends (e.g. high, low, increasing, decreasing, anomalies)? \n",
    "\n",
    "Yes. Very expensive houses have outliers. This needs to be tested if this true ar false\n",
    "\n",
    "#Can you make a bar plot or a histogram? \n",
    "\n",
    "\n",
    "\n",
    "#Can you compare two related quantities? \n",
    "\n",
    "#Can you make a scatterplot? \n",
    "\n",
    "Yes. For sure. And this is the most appropriate plot in this case.\n",
    "\n",
    "#Can you make a time-series plot? \n",
    "\n",
    "No. I do not have date and time to plot exponential plot.\n",
    "\n",
    "#Looking at the plots, what are some insights you can make? Do you see any correlations? Is there a hypothesis you’d like to investigate further? What other questions do the insights lead you to ask?\n",
    "\n",
    "#Now that you’ve asked questions, hopefully you’ve found some interesting insights. Is there a narrative or a way of presenting the insights using text and plots that tells a compelling story? What are some other trends/relationships you think will make the story more complete?\n"
   ]
  },
  {
   "cell_type": "code",
   "execution_count": null,
   "metadata": {},
   "outputs": [],
   "source": []
  }
 ],
 "metadata": {
  "kernelspec": {
   "display_name": "Python 3",
   "language": "python",
   "name": "python3"
  },
  "language_info": {
   "codemirror_mode": {
    "name": "ipython",
    "version": 3
   },
   "file_extension": ".py",
   "mimetype": "text/x-python",
   "name": "python",
   "nbconvert_exporter": "python",
   "pygments_lexer": "ipython3",
   "version": "3.7.4"
  }
 },
 "nbformat": 4,
 "nbformat_minor": 2
}
