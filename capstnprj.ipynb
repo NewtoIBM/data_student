{
 "cells": [
  {
   "cell_type": "markdown",
   "metadata": {},
   "source": [
    "## importing modules"
   ]
  },
  {
   "cell_type": "code",
   "execution_count": 1,
   "metadata": {},
   "outputs": [],
   "source": [
    "import numpy as np\n",
    "import pandas as pd\n",
    "import matplotlib.pyplot as plt"
   ]
  },
  {
   "cell_type": "markdown",
   "metadata": {},
   "source": [
    "###importing a file and manipilating data"
   ]
  },
  {
   "cell_type": "code",
   "execution_count": 2,
   "metadata": {},
   "outputs": [],
   "source": [
    "file = 'spam_ham_dataset.csv'\n",
    "\n",
    "df = pd.read_csv(file,  index_col='label') # setting a column 'label' as index\n",
    "\n"
   ]
  },
  {
   "cell_type": "markdown",
   "metadata": {},
   "source": [
    "### All codes to be tested just for my notes"
   ]
  },
  {
   "cell_type": "code",
   "execution_count": null,
   "metadata": {},
   "outputs": [],
   "source": [
    "#results = df[['text', 'Count', 'label_num']]\n",
    "#df.rename(columns = {'':'Count'}, inplace = True)\n",
    "#df2= df.pivot_table(index='label',columns='Count', values='label_num')\n",
    "#df2= pd.melt(frame=df, id_vars='label')\n",
    "#df2 = df.unstack('label')\n",
    "#df.insert(4, \"Ham\", [0], True) \n",
    "#df.insert(5, \"Spam\", [1], True) \n",
    "\n",
    "#classics = {'ham': '0', 'spam': '1'}\n",
    "#df['classics'] = classics \n",
    "#df['Classification'] = pd.Series(np.random.randn(sLength), index=df.index)"
   ]
  },
  {
   "cell_type": "markdown",
   "metadata": {},
   "source": [
    "### output"
   ]
  },
  {
   "cell_type": "code",
   "execution_count": 5,
   "metadata": {
    "scrolled": true
   },
   "outputs": [
    {
     "name": "stdout",
     "output_type": "stream",
     "text": [
      "Index(['Count', 'text', 'label_num'], dtype='object')\n",
      "       Count                                               text  label_num\n",
      "label                                                                     \n",
      "ham      605  Subject: enron methanol ; meter # : 988291\\nth...          0\n",
      "ham     2349  Subject: hpl nom for january 9 , 2001\\n( see a...          0\n",
      "ham     3624  Subject: neon retreat\\nho ho ho , we ' re arou...          0\n",
      "spam    4685  Subject: photoshop , windows , office . cheap ...          1\n",
      "ham     2030  Subject: re : indian springs\\nthis deal is to ...          0\n",
      "...      ...                                                ...        ...\n",
      "ham     1518  Subject: put the 10 on the ft\\nthe transport v...          0\n",
      "ham      404  Subject: 3 / 4 / 2000 and following noms\\nhpl ...          0\n",
      "ham     2933  Subject: calpine daily gas nomination\\n>\\n>\\nj...          0\n",
      "ham     1409  Subject: industrial worksheets for august 2000...          0\n",
      "spam    4807  Subject: important online banking alert\\ndear ...          1\n",
      "\n",
      "[5171 rows x 3 columns]\n"
     ]
    }
   ],
   "source": [
    "print(df.columns)\n",
    "print(df)\n",
    "#print(results) - if needed to print columns order changed for better readability\n"
   ]
  },
  {
   "cell_type": "markdown",
   "metadata": {},
   "source": [
    "## exploratory data analysis"
   ]
  },
  {
   "cell_type": "code",
   "execution_count": null,
   "metadata": {},
   "outputs": [],
   "source": [
    "#print(df['label'].value_counts(dropna=False))\n",
    "#print(df['label_num'].value_counts(dropna=False))"
   ]
  },
  {
   "cell_type": "markdown",
   "metadata": {},
   "source": [
    "# # Data Wrangling  techniques "
   ]
  },
  {
   "cell_type": "code",
   "execution_count": null,
   "metadata": {},
   "outputs": [],
   "source": [
    "print(df.shape) # checking number of columns and rows"
   ]
  },
  {
   "cell_type": "code",
   "execution_count": null,
   "metadata": {
    "scrolled": true
   },
   "outputs": [],
   "source": [
    "df.duplicated('label_num') # checking for duplicates"
   ]
  },
  {
   "cell_type": "code",
   "execution_count": null,
   "metadata": {},
   "outputs": [],
   "source": [
    "print(df.head()) # printing  first 5 rows of my dataset"
   ]
  },
  {
   "cell_type": "code",
   "execution_count": null,
   "metadata": {},
   "outputs": [],
   "source": [
    "print(df.info()) #exploring  what data types and if any missing values"
   ]
  },
  {
   "cell_type": "code",
   "execution_count": null,
   "metadata": {},
   "outputs": [],
   "source": [
    "df.label = df.label.astype('category') # changing a datatype from 'object' to 'category'"
   ]
  },
  {
   "cell_type": "code",
   "execution_count": null,
   "metadata": {},
   "outputs": [],
   "source": [
    "print(df.info())  #double checking if datatype is changed"
   ]
  },
  {
   "cell_type": "code",
   "execution_count": null,
   "metadata": {},
   "outputs": [],
   "source": [
    "#Coerce the errors to NaN by specifying the keyword argument errors='coerce' this is just my notes"
   ]
  },
  {
   "cell_type": "markdown",
   "metadata": {},
   "source": [
    "### this supposed to drop duplicates"
   ]
  },
  {
   "cell_type": "code",
   "execution_count": 14,
   "metadata": {},
   "outputs": [
    {
     "name": "stdout",
     "output_type": "stream",
     "text": [
      "<class 'pandas.core.frame.DataFrame'>\n",
      "Index: 5171 entries, ham to spam\n",
      "Data columns (total 3 columns):\n",
      "Count        5171 non-null int64\n",
      "text         5171 non-null object\n",
      "label_num    5171 non-null int64\n",
      "dtypes: int64(2), object(1)\n",
      "memory usage: 161.6+ KB\n",
      "None\n"
     ]
    }
   ],
   "source": [
    "tracks_no_duplicates = df.drop_duplicates()\n",
    "print(tracks_no_duplicates.info())"
   ]
  },
  {
   "cell_type": "code",
   "execution_count": null,
   "metadata": {},
   "outputs": [],
   "source": [
    "assert pd.notnull(df).all().all() # testing with assert statement if I have null values\n"
   ]
  },
  {
   "cell_type": "markdown",
   "metadata": {},
   "source": [
    "# This function is for my note. I want to know if I can use this function to label Ham as 0 and Spam as 1"
   ]
  },
  {
   "cell_type": "code",
   "execution_count": null,
   "metadata": {},
   "outputs": [],
   "source": [
    "# def recode_label(label):\n",
    "\n",
    "    # Return 0 if gender is 'Female'\n",
    "#    if label == 'Ham':\n",
    "       # return 0\n",
    "    \n",
    "    # Return 1 if gender is 'Male'    \n",
    "    #elif label == 'Spam':\n",
    "        #return 1\n",
    "    \n",
    "    # Return np.nan    \n",
    "   # else:\n",
    "      #  return np.nan\n",
    "\n",
    "# Apply the function to the column\n",
    "#df['recode'] = df.label.apply(recode_label)\n",
    "#print(df.head())"
   ]
  },
  {
   "cell_type": "markdown",
   "metadata": {},
   "source": [
    "## visualizing my data and dataframe for data storytelling"
   ]
  },
  {
   "cell_type": "code",
   "execution_count": 13,
   "metadata": {},
   "outputs": [
    {
     "data": {
      "image/png": "[encoded data removed]",
      "text/plain": [
       "<Figure size 432x288 with 1 Axes>"
      ]
     },
     "metadata": {},
     "output_type": "display_data"
    },
    {
     "data": {
      "image/png": "[encoded data removed]",
      "text/plain": [
       "<Figure size 432x288 with 1 Axes>"
      ]
     },
     "metadata": {},
     "output_type": "display_data"
    }
   ],
   "source": [
    "\n",
    "plt.title('Ham and Spam')\n",
    "plt.xlabel('Ham')\n",
    "plt.ylabel('Spam')\n",
    "plt.style.use('ggplot')\n",
    "df.plot( rot=45 )\n",
    "\n",
    "plt.show()"
   ]
  },
  {
   "cell_type": "markdown",
   "metadata": {},
   "source": [
    "## statistics"
   ]
  },
  {
   "cell_type": "code",
   "execution_count": null,
   "metadata": {},
   "outputs": [],
   "source": [
    "print(df.describe())"
   ]
  },
  {
   "cell_type": "code",
   "execution_count": null,
   "metadata": {},
   "outputs": [],
   "source": []
  }
 ],
 "metadata": {
  "kernelspec": {
   "display_name": "Python 3",
   "language": "python",
   "name": "python3"
  },
  "language_info": {
   "codemirror_mode": {
    "name": "ipython",
    "version": 3
   },
   "file_extension": ".py",
   "mimetype": "text/x-python",
   "name": "python",
   "nbconvert_exporter": "python",
   "pygments_lexer": "ipython3",
   "version": "3.7.4"
  }
 },
 "nbformat": 4,
 "nbformat_minor": 2
}
