{
 "cells": [
  {
   "cell_type": "markdown",
   "metadata": {},
   "source": [
    "# Classifying emails as spam or non-spam(Ham).\n"
   ]
  },
  {
   "cell_type": "markdown",
   "metadata": {},
   "source": [
    "## \"Spam prevents the user from making full and good use of time, storage capacity and network bandwidth. The huge volume of spam mails flowing through the computer networks have destructive effects on the memory space of email servers, communication bandwidth, CPU power and user time.\" Email service providers need to leverage  AI, ML to find more and better, and effective techniques to fight spam .  If I create another  good solution  email service providers will implement it as their solution to fight spam.But before I need to do some EDA,Data visualization and Hypothesis tests.\n"
   ]
  },
  {
   "cell_type": "code",
   "execution_count": 3,
   "metadata": {},
   "outputs": [],
   "source": [
    "import numpy as np\n",
    "import pandas as pd\n",
    "import csv"
   ]
  },
  {
   "cell_type": "code",
   "execution_count": null,
   "metadata": {},
   "outputs": [],
   "source": [
    "#importing a file and manipilating data\n",
    "file = 'spam_ham_dataset.csv'\n",
    "df = pd.read_csv(file ) # setting a column 'label' as index\n",
    "#df.set_index('label')\n"
   ]
  },
  {
   "cell_type": "markdown",
   "metadata": {},
   "source": [
    "### All codes to be tested just for my notes"
   ]
  },
  {
   "cell_type": "code",
   "execution_count": 34,
   "metadata": {},
   "outputs": [],
   "source": [
    "\n",
    "#results = df[['text', 'Count', 'label_num']]\n",
    "#df.rename(columns = {'':'Count'}, inplace = True)\n",
    "#df2= df.pivot_table(index='label',columns='Count', values='label_num')\n",
    "#df.columns=['label', 'text','Count','label_num']\n",
    "#df2= df.melt(['text', 'Count'],['label','label_num'],'ham','spam')        #(frame=df, id_vars='label')\n",
    "#df2 = df.unstack()\n",
    "#df.insert(1, \"Ham\", [0], True) \n",
    "#df.insert(5, \"Spam\", [1], True) \n",
    "#df2.head()\n",
    "#df.query(label=='1')\n",
    "#classics = {'ham': '0', 'spam': '1'}\n",
    "#df['classics'] = classics \n",
    "#df['Classification'] = pd.Series(np.random.randn(sLength), index=df.index)\n",
    "#plot1 = file.groupby('label_num').label.value_counts(normalize= True)\n",
    "#plot2 = file.groupby(['ham','spam']).text.value_counts(normalize= True)"
   ]
  },
  {
   "cell_type": "markdown",
   "metadata": {},
   "source": [
    "### output"
   ]
  },
  {
   "cell_type": "code",
   "execution_count": 53,
   "metadata": {
    "scrolled": true
   },
   "outputs": [
    {
     "name": "stdout",
     "output_type": "stream",
     "text": [
      "Index(['label', 'text', 'Count', 'label_num'], dtype='object')\n",
      "   label  text                                              Count  label_num\n",
      "0    605   ham  Subject: enron methanol ; meter # : 988291\\nth...          0\n",
      "1   2349   ham  Subject: hpl nom for january 9 , 2001\\n( see a...          0\n",
      "2   3624   ham  Subject: neon retreat\\nho ho ho , we ' re arou...          0\n",
      "3   4685  spam  Subject: photoshop , windows , office . cheap ...          1\n",
      "4   2030   ham  Subject: re : indian springs\\nthis deal is to ...          0\n"
     ]
    }
   ],
   "source": [
    "print(df.columns)\n",
    "print(df.head())\n",
    "#print(df2)\n",
    "#print(results) - if needed to print columns order changed for better readability\n",
    "#df2= pd.melt(['label', 'text'],['Count','label_num'],'ham','spam')  "
   ]
  },
  {
   "cell_type": "markdown",
   "metadata": {},
   "source": [
    "## exploratory data analysis"
   ]
  },
  {
   "cell_type": "code",
   "execution_count": 54,
   "metadata": {},
   "outputs": [],
   "source": [
    "#print(df['label'].value_counts(dropna=False))\n",
    "#print(df['label_num'].value_counts(dropna=False))"
   ]
  },
  {
   "cell_type": "markdown",
   "metadata": {},
   "source": [
    "# # Data Wrangling  techniques "
   ]
  },
  {
   "cell_type": "code",
   "execution_count": 55,
   "metadata": {},
   "outputs": [
    {
     "name": "stdout",
     "output_type": "stream",
     "text": [
      "(5171, 4)\n"
     ]
    }
   ],
   "source": [
    "# checking number of columns and rows\n",
    "print(df.shape) "
   ]
  },
  {
   "cell_type": "code",
   "execution_count": 56,
   "metadata": {
    "scrolled": true
   },
   "outputs": [
    {
     "data": {
      "text/plain": [
       "0       False\n",
       "1        True\n",
       "2        True\n",
       "3       False\n",
       "4        True\n",
       "        ...  \n",
       "5166     True\n",
       "5167     True\n",
       "5168     True\n",
       "5169     True\n",
       "5170     True\n",
       "Length: 5171, dtype: bool"
      ]
     },
     "execution_count": 56,
     "metadata": {},
     "output_type": "execute_result"
    }
   ],
   "source": [
    "# checking for duplicates\n",
    "df.duplicated('label_num') "
   ]
  },
  {
   "cell_type": "code",
   "execution_count": null,
   "metadata": {},
   "outputs": [],
   "source": [
    "#printing first 5 rows\n",
    "print(df.head()) "
   ]
  },
  {
   "cell_type": "code",
   "execution_count": null,
   "metadata": {},
   "outputs": [],
   "source": [
    "#exploring  what data types and if any missing values\n",
    "print(df.info()) "
   ]
  },
  {
   "cell_type": "code",
   "execution_count": null,
   "metadata": {},
   "outputs": [],
   "source": [
    "# changing a datatype from 'object' to 'category'\n",
    "df.label = df.label.astype('category') "
   ]
  },
  {
   "cell_type": "code",
   "execution_count": null,
   "metadata": {},
   "outputs": [],
   "source": [
    " #double checking if datatype is changed\n",
    "print(df.info()) "
   ]
  },
  {
   "cell_type": "code",
   "execution_count": null,
   "metadata": {},
   "outputs": [],
   "source": [
    "#Coerce the errors to NaN by specifying the keyword argument errors='coerce' this is just my notes"
   ]
  },
  {
   "cell_type": "code",
   "execution_count": null,
   "metadata": {},
   "outputs": [],
   "source": [
    "#this supposed to drop duplicates\n",
    "#tracks_no_duplicates = df.drop_duplicates()\n",
    "#print(tracks_no_duplicates.info())"
   ]
  },
  {
   "cell_type": "code",
   "execution_count": null,
   "metadata": {},
   "outputs": [],
   "source": [
    "# testing with assert statement if I have null values\n",
    "assert pd.notnull(df).all().all() \n"
   ]
  },
  {
   "cell_type": "code",
   "execution_count": 33,
   "metadata": {},
   "outputs": [],
   "source": [
    "\n",
    "#df2.columns = ['Ham', 'Spam']\n",
    "#df2.columns.name = 'label'"
   ]
  },
  {
   "cell_type": "markdown",
   "metadata": {},
   "source": [
    "## statistics"
   ]
  },
  {
   "cell_type": "code",
   "execution_count": null,
   "metadata": {},
   "outputs": [],
   "source": [
    "print(df.describe())"
   ]
  },
  {
   "cell_type": "code",
   "execution_count": null,
   "metadata": {},
   "outputs": [],
   "source": []
  }
 ],
 "metadata": {
  "kernelspec": {
   "display_name": "Python 3",
   "language": "python",
   "name": "python3"
  },
  "language_info": {
   "codemirror_mode": {
    "name": "ipython",
    "version": 3
   },
   "file_extension": ".py",
   "mimetype": "text/x-python",
   "name": "python",
   "nbconvert_exporter": "python",
   "pygments_lexer": "ipython3",
   "version": "3.7.4"
  }
 },
 "nbformat": 4,
 "nbformat_minor": 2
}
