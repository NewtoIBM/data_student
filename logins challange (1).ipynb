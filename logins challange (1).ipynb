{
 "cells": [
  {
   "cell_type": "code",
   "execution_count": 1,
   "metadata": {},
   "outputs": [],
   "source": [
    "import numpy as np\n",
    "import pandas as pd\n",
    "import seaborn as sns\n",
    "import matplotlib as plt\n",
    "import json\n",
    "%matplotlib inline"
   ]
  },
  {
   "cell_type": "code",
   "execution_count": 2,
   "metadata": {},
   "outputs": [
    {
     "data": {
      "text/html": [
       "<div>\n",
       "<style scoped>\n",
       "    .dataframe tbody tr th:only-of-type {\n",
       "        vertical-align: middle;\n",
       "    }\n",
       "\n",
       "    .dataframe tbody tr th {\n",
       "        vertical-align: top;\n",
       "    }\n",
       "\n",
       "    .dataframe thead th {\n",
       "        text-align: right;\n",
       "    }\n",
       "</style>\n",
       "<table border=\"1\" class=\"dataframe\">\n",
       "  <thead>\n",
       "    <tr style=\"text-align: right;\">\n",
       "      <th></th>\n",
       "      <th>login_time</th>\n",
       "    </tr>\n",
       "  </thead>\n",
       "  <tbody>\n",
       "    <tr>\n",
       "      <th>0</th>\n",
       "      <td>1970-01-01 20:13:18</td>\n",
       "    </tr>\n",
       "    <tr>\n",
       "      <th>1</th>\n",
       "      <td>1970-01-01 20:16:10</td>\n",
       "    </tr>\n",
       "    <tr>\n",
       "      <th>2</th>\n",
       "      <td>1970-01-01 20:16:37</td>\n",
       "    </tr>\n",
       "    <tr>\n",
       "      <th>3</th>\n",
       "      <td>1970-01-01 20:16:36</td>\n",
       "    </tr>\n",
       "    <tr>\n",
       "      <th>4</th>\n",
       "      <td>1970-01-01 20:26:21</td>\n",
       "    </tr>\n",
       "    <tr>\n",
       "      <th>...</th>\n",
       "      <td>...</td>\n",
       "    </tr>\n",
       "    <tr>\n",
       "      <th>93137</th>\n",
       "      <td>1970-04-13 18:50:19</td>\n",
       "    </tr>\n",
       "    <tr>\n",
       "      <th>93138</th>\n",
       "      <td>1970-04-13 18:43:56</td>\n",
       "    </tr>\n",
       "    <tr>\n",
       "      <th>93139</th>\n",
       "      <td>1970-04-13 18:54:02</td>\n",
       "    </tr>\n",
       "    <tr>\n",
       "      <th>93140</th>\n",
       "      <td>1970-04-13 18:57:38</td>\n",
       "    </tr>\n",
       "    <tr>\n",
       "      <th>93141</th>\n",
       "      <td>1970-04-13 18:54:23</td>\n",
       "    </tr>\n",
       "  </tbody>\n",
       "</table>\n",
       "<p>93142 rows × 1 columns</p>\n",
       "</div>"
      ],
      "text/plain": [
       "               login_time\n",
       "0     1970-01-01 20:13:18\n",
       "1     1970-01-01 20:16:10\n",
       "2     1970-01-01 20:16:37\n",
       "3     1970-01-01 20:16:36\n",
       "4     1970-01-01 20:26:21\n",
       "...                   ...\n",
       "93137 1970-04-13 18:50:19\n",
       "93138 1970-04-13 18:43:56\n",
       "93139 1970-04-13 18:54:02\n",
       "93140 1970-04-13 18:57:38\n",
       "93141 1970-04-13 18:54:23\n",
       "\n",
       "[93142 rows x 1 columns]"
      ]
     },
     "execution_count": 2,
     "metadata": {},
     "output_type": "execute_result"
    }
   ],
   "source": [
    "# Import Train and Test Data \n",
    "logins = '/Users/Administrator/Desktop/'\n",
    "#i = pd.date_range('2018-04-09', periods=15)\n",
    "loginsf =  pd.read_json(logins + 'logins.json') \n",
    "loginsdf = pd.DataFrame(loginsf)\n",
    "loginsdf\n",
    "#how many times each interval (duplicates)"
   ]
  },
  {
   "cell_type": "markdown",
   "metadata": {},
   "source": [
    "First , exploring this dataset if I have missing values and if I need to clean it."
   ]
  },
  {
   "cell_type": "code",
   "execution_count": 3,
   "metadata": {},
   "outputs": [
    {
     "name": "stdout",
     "output_type": "stream",
     "text": [
      "<class 'pandas.core.frame.DataFrame'>\n",
      "RangeIndex: 93142 entries, 0 to 93141\n",
      "Data columns (total 1 columns):\n",
      " #   Column      Non-Null Count  Dtype         \n",
      "---  ------      --------------  -----         \n",
      " 0   login_time  93142 non-null  datetime64[ns]\n",
      "dtypes: datetime64[ns](1)\n",
      "memory usage: 727.8 KB\n"
     ]
    }
   ],
   "source": [
    "#info about the dataset\n",
    "loginsdf.info()"
   ]
  },
  {
   "cell_type": "code",
   "execution_count": 4,
   "metadata": {},
   "outputs": [
    {
     "data": {
      "text/plain": [
       "(93142, 1)"
      ]
     },
     "execution_count": 4,
     "metadata": {},
     "output_type": "execute_result"
    }
   ],
   "source": [
    "#how many rows and columns\n",
    "loginsdf.shape"
   ]
  },
  {
   "cell_type": "markdown",
   "metadata": {},
   "source": [
    "Just to have a common sense about the dataset"
   ]
  },
  {
   "cell_type": "code",
   "execution_count": 5,
   "metadata": {},
   "outputs": [
    {
     "data": {
      "text/html": [
       "<div>\n",
       "<style scoped>\n",
       "    .dataframe tbody tr th:only-of-type {\n",
       "        vertical-align: middle;\n",
       "    }\n",
       "\n",
       "    .dataframe tbody tr th {\n",
       "        vertical-align: top;\n",
       "    }\n",
       "\n",
       "    .dataframe thead th {\n",
       "        text-align: right;\n",
       "    }\n",
       "</style>\n",
       "<table border=\"1\" class=\"dataframe\">\n",
       "  <thead>\n",
       "    <tr style=\"text-align: right;\">\n",
       "      <th></th>\n",
       "      <th>count</th>\n",
       "      <th>unique</th>\n",
       "      <th>top</th>\n",
       "      <th>freq</th>\n",
       "      <th>first</th>\n",
       "      <th>last</th>\n",
       "    </tr>\n",
       "  </thead>\n",
       "  <tbody>\n",
       "    <tr>\n",
       "      <th>login_time</th>\n",
       "      <td>93142</td>\n",
       "      <td>92265</td>\n",
       "      <td>1970-02-12 11:16:53</td>\n",
       "      <td>3</td>\n",
       "      <td>1970-01-01 20:12:16</td>\n",
       "      <td>1970-04-13 18:57:38</td>\n",
       "    </tr>\n",
       "  </tbody>\n",
       "</table>\n",
       "</div>"
      ],
      "text/plain": [
       "            count unique                 top freq               first  \\\n",
       "login_time  93142  92265 1970-02-12 11:16:53    3 1970-01-01 20:12:16   \n",
       "\n",
       "                          last  \n",
       "login_time 1970-04-13 18:57:38  "
      ]
     },
     "execution_count": 5,
     "metadata": {},
     "output_type": "execute_result"
    }
   ],
   "source": [
    "#statistics\n",
    "loginsdf.describe().T"
   ]
  },
  {
   "cell_type": "code",
   "execution_count": 6,
   "metadata": {},
   "outputs": [
    {
     "data": {
      "text/plain": [
       "login_time   1970-01-01 20:12:16\n",
       "dtype: datetime64[ns]"
      ]
     },
     "execution_count": 6,
     "metadata": {},
     "output_type": "execute_result"
    }
   ],
   "source": [
    "#minimum value\n",
    "loginsdf.min()"
   ]
  },
  {
   "cell_type": "markdown",
   "metadata": {},
   "source": [
    "Aggregate these login counts based on 15­minute time intervals, and\n",
    "visualize and describe the resulting time series of login counts in ways that best characterize the\n",
    "underlying patterns of the demand"
   ]
  },
  {
   "cell_type": "code",
   "execution_count": 3,
   "metadata": {},
   "outputs": [
    {
     "data": {
      "text/html": [
       "<div>\n",
       "<style scoped>\n",
       "    .dataframe tbody tr th:only-of-type {\n",
       "        vertical-align: middle;\n",
       "    }\n",
       "\n",
       "    .dataframe tbody tr th {\n",
       "        vertical-align: top;\n",
       "    }\n",
       "\n",
       "    .dataframe thead th {\n",
       "        text-align: right;\n",
       "    }\n",
       "</style>\n",
       "<table border=\"1\" class=\"dataframe\">\n",
       "  <thead>\n",
       "    <tr style=\"text-align: right;\">\n",
       "      <th></th>\n",
       "    </tr>\n",
       "    <tr>\n",
       "      <th>login_time</th>\n",
       "    </tr>\n",
       "  </thead>\n",
       "  <tbody>\n",
       "    <tr>\n",
       "      <th>1970-01-01 20:13:18</th>\n",
       "    </tr>\n",
       "    <tr>\n",
       "      <th>1970-01-01 20:16:10</th>\n",
       "    </tr>\n",
       "    <tr>\n",
       "      <th>1970-01-01 20:16:37</th>\n",
       "    </tr>\n",
       "    <tr>\n",
       "      <th>1970-01-01 20:16:36</th>\n",
       "    </tr>\n",
       "    <tr>\n",
       "      <th>1970-01-01 20:26:21</th>\n",
       "    </tr>\n",
       "    <tr>\n",
       "      <th>...</th>\n",
       "    </tr>\n",
       "    <tr>\n",
       "      <th>1970-04-13 18:50:19</th>\n",
       "    </tr>\n",
       "    <tr>\n",
       "      <th>1970-04-13 18:43:56</th>\n",
       "    </tr>\n",
       "    <tr>\n",
       "      <th>1970-04-13 18:54:02</th>\n",
       "    </tr>\n",
       "    <tr>\n",
       "      <th>1970-04-13 18:57:38</th>\n",
       "    </tr>\n",
       "    <tr>\n",
       "      <th>1970-04-13 18:54:23</th>\n",
       "    </tr>\n",
       "  </tbody>\n",
       "</table>\n",
       "<p>93142 rows × 0 columns</p>\n",
       "</div>"
      ],
      "text/plain": [
       "Empty DataFrame\n",
       "Columns: []\n",
       "Index: [1970-01-01 20:13:18, 1970-01-01 20:16:10, 1970-01-01 20:16:37, 1970-01-01 20:16:36, 1970-01-01 20:26:21, 1970-01-01 20:21:41, 1970-01-01 20:12:16, 1970-01-01 20:35:47, 1970-01-01 20:35:38, 1970-01-01 20:47:52, 1970-01-01 20:26:05, 1970-01-01 20:31:03, 1970-01-01 20:34:46, 1970-01-01 20:36:34, 1970-01-01 20:39:25, 1970-01-01 20:40:37, 1970-01-01 20:34:58, 1970-01-01 20:43:59, 1970-01-01 20:47:46, 1970-01-01 20:46:34, 1970-01-01 20:56:07, 1970-01-01 20:49:12, 1970-01-01 20:59:06, 1970-01-01 20:59:59, 1970-01-01 21:15:01, 1970-01-01 21:09:24, 1970-01-01 21:19:24, 1970-01-01 21:20:53, 1970-01-01 21:29:19, 1970-01-01 21:58:05, 1970-01-01 21:51:51, 1970-01-01 21:59:40, 1970-01-01 22:08:34, 1970-01-01 22:02:51, 1970-01-01 21:58:32, 1970-01-01 22:02:31, 1970-01-01 22:05:32, 1970-01-01 22:02:46, 1970-01-01 22:10:28, 1970-01-01 22:11:58, 1970-01-01 22:01:05, 1970-01-01 22:19:10, 1970-01-01 22:16:54, 1970-01-01 22:17:32, 1970-01-01 22:12:05, 1970-01-01 22:23:03, 1970-01-01 22:22:14, 1970-01-01 22:25:09, 1970-01-01 22:24:04, 1970-01-01 22:19:59, 1970-01-01 22:31:32, 1970-01-01 23:06:11, 1970-01-01 22:55:56, 1970-01-01 23:07:09, 1970-01-01 23:11:56, 1970-01-01 23:04:35, 1970-01-01 23:04:28, 1970-01-01 23:12:51, 1970-01-01 23:08:05, 1970-01-01 23:11:37, 1970-01-01 23:09:31, 1970-01-01 22:57:55, 1970-01-01 23:14:00, 1970-01-01 23:09:06, 1970-01-01 23:07:31, 1970-01-01 23:09:13, 1970-01-01 22:56:25, 1970-01-01 23:09:55, 1970-01-01 23:18:34, 1970-01-01 23:09:22, 1970-01-01 23:21:30, 1970-01-01 23:07:45, 1970-01-01 23:23:25, 1970-01-01 23:16:11, 1970-01-01 23:22:05, 1970-01-01 23:17:48, 1970-01-01 23:24:13, 1970-01-01 23:25:52, 1970-01-01 23:33:36, 1970-01-01 23:31:00, 1970-01-01 23:20:43, 1970-01-01 23:26:11, 1970-01-01 23:21:06, 1970-01-01 23:26:59, 1970-01-01 23:30:37, 1970-01-01 23:38:24, 1970-01-01 23:38:05, 1970-01-01 23:33:54, 1970-01-01 23:30:32, 1970-01-01 23:45:41, 1970-01-01 23:43:25, 1970-01-01 23:37:24, 1970-01-01 23:35:01, 1970-01-01 23:43:22, 1970-01-01 23:52:57, 1970-01-01 23:47:36, 1970-01-01 23:45:00, 1970-01-01 23:27:12, 1970-01-01 23:45:34, 1970-01-01 23:44:47, ...]\n",
       "\n",
       "[93142 rows x 0 columns]"
      ]
     },
     "execution_count": 3,
     "metadata": {},
     "output_type": "execute_result"
    }
   ],
   "source": [
    "#setting index\n",
    "loginset = loginsdf.set_index('login_time')\n",
    "loginset"
   ]
  },
  {
   "cell_type": "code",
   "execution_count": 4,
   "metadata": {},
   "outputs": [],
   "source": [
    "#convert data to datetime datatype\n",
    "loginset.index = pd.to_datetime(loginset.index, unit='min')"
   ]
  },
  {
   "cell_type": "code",
   "execution_count": 5,
   "metadata": {},
   "outputs": [
    {
     "data": {
      "text/plain": [
       "DatetimeIndex(['1970-01-01 20:15:00', '1970-01-01 20:15:00',\n",
       "               '1970-01-01 20:15:00', '1970-01-01 20:15:00',\n",
       "               '1970-01-01 20:30:00', '1970-01-01 20:15:00',\n",
       "               '1970-01-01 20:15:00', '1970-01-01 20:30:00',\n",
       "               '1970-01-01 20:30:00', '1970-01-01 20:45:00',\n",
       "               ...\n",
       "               '1970-04-13 18:30:00', '1970-04-13 18:45:00',\n",
       "               '1970-04-13 18:45:00', '1970-04-13 18:45:00',\n",
       "               '1970-04-13 18:45:00', '1970-04-13 18:45:00',\n",
       "               '1970-04-13 18:45:00', '1970-04-13 19:00:00',\n",
       "               '1970-04-13 19:00:00', '1970-04-13 19:00:00'],\n",
       "              dtype='datetime64[ns]', name='login_time', length=93142, freq=None)"
      ]
     },
     "execution_count": 5,
     "metadata": {},
     "output_type": "execute_result"
    }
   ],
   "source": [
    "#rounding minutes to 15 mins intervals\n",
    "loginset.index.round(\"15min\")"
   ]
  },
  {
   "cell_type": "code",
   "execution_count": 6,
   "metadata": {},
   "outputs": [],
   "source": [
    "# name a new dataframe\n",
    "roundedtime = loginset.index.round(\"15min\")"
   ]
  },
  {
   "cell_type": "code",
   "execution_count": 7,
   "metadata": {},
   "outputs": [
    {
     "data": {
      "text/plain": [
       "83766"
      ]
     },
     "execution_count": 7,
     "metadata": {},
     "output_type": "execute_result"
    }
   ],
   "source": [
    "#count duplicates total\n",
    "roundedtime.duplicated().sum()"
   ]
  },
  {
   "cell_type": "markdown",
   "metadata": {},
   "source": [
    "login counts based on 15­minute time intervals"
   ]
  },
  {
   "cell_type": "markdown",
   "metadata": {},
   "source": [
    "visualize and describe the resulting time series of login counts in ways that best characterize the underlying patterns of the demand"
   ]
  },
  {
   "cell_type": "code",
   "execution_count": 18,
   "metadata": {},
   "outputs": [
    {
     "data": {
      "text/plain": [
       "(array([3321., 4294., 3235., 3443., 3690., 3723., 3030., 4511., 4719.,\n",
       "        4908., 4451., 5233., 6078., 4607., 6432., 6115., 5787., 4767.,\n",
       "        5530., 5268.]),\n",
       " array([719163.84375   , 719168.94114583, 719174.03854167, 719179.1359375 ,\n",
       "        719184.23333333, 719189.33072917, 719194.428125  , 719199.52552083,\n",
       "        719204.62291667, 719209.7203125 , 719214.81770833, 719219.91510417,\n",
       "        719225.0125    , 719230.10989583, 719235.20729167, 719240.3046875 ,\n",
       "        719245.40208333, 719250.49947917, 719255.596875  , 719260.69427083,\n",
       "        719265.79166667]),\n",
       " <a list of 20 Patch objects>)"
      ]
     },
     "execution_count": 18,
     "metadata": {},
     "output_type": "execute_result"
    },
    {
     "data": {
      "image/png": "[encoded data removed]",
      "text/plain": [
       "<Figure size 1080x720 with 1 Axes>"
      ]
     },
     "metadata": {
      "needs_background": "light"
     },
     "output_type": "display_data"
    }
   ],
   "source": [
    "# count plot\n",
    "fig = plt.figure(figsize = (15,10))\n",
    "your_bins=20\n",
    "arr=plt.hist(roundedtime.T, bins=your_bins)\n",
    "for i in range(your_bins):\n",
    "    plt.text(arr[1][i],arr[0][i],str(arr[0][i]))\n",
    "plt.hist(roundedtime.T, bins=20)"
   ]
  },
  {
   "cell_type": "markdown",
   "metadata": {},
   "source": [
    "this count plot as a solution unveils time of the demand based on my data and it is between 1970-03-01 and 1970-04-1"
   ]
  },
  {
   "cell_type": "code",
   "execution_count": 27,
   "metadata": {},
   "outputs": [],
   "source": [
    "loginsdf['date'] = loginsdf['login_time'].dt.date\n"
   ]
  },
  {
   "cell_type": "code",
   "execution_count": 10,
   "metadata": {},
   "outputs": [
    {
     "name": "stdout",
     "output_type": "stream",
     "text": [
      "Created at Int64Index([15, 15, 15, 15, 30, 15, 15, 30, 30, 45,\n",
      "            ...\n",
      "            30, 45, 45, 45, 45, 45, 45,  0,  0,  0],\n",
      "           dtype='int64', name='login_time', length=93142)\n"
     ]
    }
   ],
   "source": [
    "#print(\"Created at %s\" % (roundedtime.minute))"
   ]
  },
  {
   "cell_type": "code",
   "execution_count": 11,
   "metadata": {},
   "outputs": [],
   "source": [
    "#extracting minutes only from my data\n",
    "loginset['mins'] = roundedtime.minute"
   ]
  },
  {
   "cell_type": "code",
   "execution_count": 28,
   "metadata": {},
   "outputs": [],
   "source": [
    "loginset['date'] = roundedtime.date"
   ]
  },
  {
   "cell_type": "code",
   "execution_count": 29,
   "metadata": {},
   "outputs": [
    {
     "data": {
      "text/html": [
       "<div>\n",
       "<style scoped>\n",
       "    .dataframe tbody tr th:only-of-type {\n",
       "        vertical-align: middle;\n",
       "    }\n",
       "\n",
       "    .dataframe tbody tr th {\n",
       "        vertical-align: top;\n",
       "    }\n",
       "\n",
       "    .dataframe thead th {\n",
       "        text-align: right;\n",
       "    }\n",
       "</style>\n",
       "<table border=\"1\" class=\"dataframe\">\n",
       "  <thead>\n",
       "    <tr style=\"text-align: right;\">\n",
       "      <th>login_time</th>\n",
       "      <th>1970-01-01 20:13:18</th>\n",
       "      <th>1970-01-01 20:16:10</th>\n",
       "      <th>1970-01-01 20:16:37</th>\n",
       "      <th>1970-01-01 20:16:36</th>\n",
       "      <th>1970-01-01 20:26:21</th>\n",
       "      <th>1970-01-01 20:21:41</th>\n",
       "      <th>1970-01-01 20:12:16</th>\n",
       "      <th>1970-01-01 20:35:47</th>\n",
       "      <th>1970-01-01 20:35:38</th>\n",
       "      <th>1970-01-01 20:47:52</th>\n",
       "      <th>...</th>\n",
       "      <th>1970-04-13 18:36:53</th>\n",
       "      <th>1970-04-13 18:40:31</th>\n",
       "      <th>1970-04-13 18:46:06</th>\n",
       "      <th>1970-04-13 18:40:40</th>\n",
       "      <th>1970-04-13 18:48:52</th>\n",
       "      <th>1970-04-13 18:50:19</th>\n",
       "      <th>1970-04-13 18:43:56</th>\n",
       "      <th>1970-04-13 18:54:02</th>\n",
       "      <th>1970-04-13 18:57:38</th>\n",
       "      <th>1970-04-13 18:54:23</th>\n",
       "    </tr>\n",
       "  </thead>\n",
       "  <tbody>\n",
       "    <tr>\n",
       "      <th>mins</th>\n",
       "      <td>15</td>\n",
       "      <td>15</td>\n",
       "      <td>15</td>\n",
       "      <td>15</td>\n",
       "      <td>30</td>\n",
       "      <td>15</td>\n",
       "      <td>15</td>\n",
       "      <td>30</td>\n",
       "      <td>30</td>\n",
       "      <td>45</td>\n",
       "      <td>...</td>\n",
       "      <td>30</td>\n",
       "      <td>45</td>\n",
       "      <td>45</td>\n",
       "      <td>45</td>\n",
       "      <td>45</td>\n",
       "      <td>45</td>\n",
       "      <td>45</td>\n",
       "      <td>0</td>\n",
       "      <td>0</td>\n",
       "      <td>0</td>\n",
       "    </tr>\n",
       "    <tr>\n",
       "      <th>date</th>\n",
       "      <td>1970-01-01</td>\n",
       "      <td>1970-01-01</td>\n",
       "      <td>1970-01-01</td>\n",
       "      <td>1970-01-01</td>\n",
       "      <td>1970-01-01</td>\n",
       "      <td>1970-01-01</td>\n",
       "      <td>1970-01-01</td>\n",
       "      <td>1970-01-01</td>\n",
       "      <td>1970-01-01</td>\n",
       "      <td>1970-01-01</td>\n",
       "      <td>...</td>\n",
       "      <td>1970-04-13</td>\n",
       "      <td>1970-04-13</td>\n",
       "      <td>1970-04-13</td>\n",
       "      <td>1970-04-13</td>\n",
       "      <td>1970-04-13</td>\n",
       "      <td>1970-04-13</td>\n",
       "      <td>1970-04-13</td>\n",
       "      <td>1970-04-13</td>\n",
       "      <td>1970-04-13</td>\n",
       "      <td>1970-04-13</td>\n",
       "    </tr>\n",
       "  </tbody>\n",
       "</table>\n",
       "<p>2 rows × 93142 columns</p>\n",
       "</div>"
      ],
      "text/plain": [
       "login_time 1970-01-01 20:13:18 1970-01-01 20:16:10 1970-01-01 20:16:37  \\\n",
       "mins                        15                  15                  15   \n",
       "date                1970-01-01          1970-01-01          1970-01-01   \n",
       "\n",
       "login_time 1970-01-01 20:16:36 1970-01-01 20:26:21 1970-01-01 20:21:41  \\\n",
       "mins                        15                  30                  15   \n",
       "date                1970-01-01          1970-01-01          1970-01-01   \n",
       "\n",
       "login_time 1970-01-01 20:12:16 1970-01-01 20:35:47 1970-01-01 20:35:38  \\\n",
       "mins                        15                  30                  30   \n",
       "date                1970-01-01          1970-01-01          1970-01-01   \n",
       "\n",
       "login_time 1970-01-01 20:47:52  ... 1970-04-13 18:36:53 1970-04-13 18:40:31  \\\n",
       "mins                        45  ...                  30                  45   \n",
       "date                1970-01-01  ...          1970-04-13          1970-04-13   \n",
       "\n",
       "login_time 1970-04-13 18:46:06 1970-04-13 18:40:40 1970-04-13 18:48:52  \\\n",
       "mins                        45                  45                  45   \n",
       "date                1970-04-13          1970-04-13          1970-04-13   \n",
       "\n",
       "login_time 1970-04-13 18:50:19 1970-04-13 18:43:56 1970-04-13 18:54:02  \\\n",
       "mins                        45                  45                   0   \n",
       "date                1970-04-13          1970-04-13          1970-04-13   \n",
       "\n",
       "login_time 1970-04-13 18:57:38 1970-04-13 18:54:23  \n",
       "mins                         0                   0  \n",
       "date                1970-04-13          1970-04-13  \n",
       "\n",
       "[2 rows x 93142 columns]"
      ]
     },
     "execution_count": 29,
     "metadata": {},
     "output_type": "execute_result"
    }
   ],
   "source": [
    "#transpose\n",
    "loginset.T"
   ]
  },
  {
   "cell_type": "code",
   "execution_count": 32,
   "metadata": {},
   "outputs": [
    {
     "data": {
      "image/png": "[encoded data removed]",
      "text/plain": [
       "<Figure size 432x288 with 1 Axes>"
      ]
     },
     "metadata": {
      "needs_background": "light"
     },
     "output_type": "display_data"
    }
   ],
   "source": [
    "#plot time series\n",
    "loginset['mins'].plot(linewidth=0.5);"
   ]
  },
  {
   "cell_type": "code",
   "execution_count": 34,
   "metadata": {},
   "outputs": [
    {
     "data": {
      "image/png": "[encoded data removed]",
      "text/plain": [
       "<Figure size 1080x720 with 1 Axes>"
      ]
     },
     "metadata": {
      "needs_background": "light"
     },
     "output_type": "display_data"
    }
   ],
   "source": [
    "#plot time series\n",
    "fig = plt.figure(figsize = (15,10))\n",
    "loginset.groupby('date')['mins'].agg('count').plot(linewidth=0.5);"
   ]
  },
  {
   "cell_type": "code",
   "execution_count": 68,
   "metadata": {},
   "outputs": [
    {
     "data": {
      "image/png": "[encoded data removed]",
      "text/plain": [
       "<Figure size 1080x720 with 1 Axes>"
      ]
     },
     "metadata": {
      "needs_background": "light"
     },
     "output_type": "display_data"
    }
   ],
   "source": [
    "#seasonality\n",
    "fig = plt.figure(figsize = (15,10))\n",
    "sns.boxplot(data=loginset, x='date', y='mins');"
   ]
  },
  {
   "cell_type": "code",
   "execution_count": 38,
   "metadata": {},
   "outputs": [
    {
     "data": {
      "text/html": [
       "<div>\n",
       "<style scoped>\n",
       "    .dataframe tbody tr th:only-of-type {\n",
       "        vertical-align: middle;\n",
       "    }\n",
       "\n",
       "    .dataframe tbody tr th {\n",
       "        vertical-align: top;\n",
       "    }\n",
       "\n",
       "    .dataframe thead th {\n",
       "        text-align: right;\n",
       "    }\n",
       "</style>\n",
       "<table border=\"1\" class=\"dataframe\">\n",
       "  <thead>\n",
       "    <tr style=\"text-align: right;\">\n",
       "      <th></th>\n",
       "      <th>mins</th>\n",
       "    </tr>\n",
       "    <tr>\n",
       "      <th>login_time</th>\n",
       "      <th></th>\n",
       "    </tr>\n",
       "  </thead>\n",
       "  <tbody>\n",
       "    <tr>\n",
       "      <th>1970-01-01 20:13:18</th>\n",
       "      <td>NaN</td>\n",
       "    </tr>\n",
       "    <tr>\n",
       "      <th>1970-01-01 20:16:10</th>\n",
       "      <td>NaN</td>\n",
       "    </tr>\n",
       "    <tr>\n",
       "      <th>1970-01-01 20:16:37</th>\n",
       "      <td>NaN</td>\n",
       "    </tr>\n",
       "    <tr>\n",
       "      <th>1970-01-01 20:16:36</th>\n",
       "      <td>17.142857</td>\n",
       "    </tr>\n",
       "    <tr>\n",
       "      <th>1970-01-01 20:26:21</th>\n",
       "      <td>19.285714</td>\n",
       "    </tr>\n",
       "    <tr>\n",
       "      <th>1970-01-01 20:21:41</th>\n",
       "      <td>21.428571</td>\n",
       "    </tr>\n",
       "    <tr>\n",
       "      <th>1970-01-01 20:12:16</th>\n",
       "      <td>25.714286</td>\n",
       "    </tr>\n",
       "    <tr>\n",
       "      <th>1970-01-01 20:35:47</th>\n",
       "      <td>27.857143</td>\n",
       "    </tr>\n",
       "    <tr>\n",
       "      <th>1970-01-01 20:35:38</th>\n",
       "      <td>27.857143</td>\n",
       "    </tr>\n",
       "    <tr>\n",
       "      <th>1970-01-01 20:47:52</th>\n",
       "      <td>30.000000</td>\n",
       "    </tr>\n",
       "  </tbody>\n",
       "</table>\n",
       "</div>"
      ],
      "text/plain": [
       "                          mins\n",
       "login_time                    \n",
       "1970-01-01 20:13:18        NaN\n",
       "1970-01-01 20:16:10        NaN\n",
       "1970-01-01 20:16:37        NaN\n",
       "1970-01-01 20:16:36  17.142857\n",
       "1970-01-01 20:26:21  19.285714\n",
       "1970-01-01 20:21:41  21.428571\n",
       "1970-01-01 20:12:16  25.714286\n",
       "1970-01-01 20:35:47  27.857143\n",
       "1970-01-01 20:35:38  27.857143\n",
       "1970-01-01 20:47:52  30.000000"
      ]
     },
     "execution_count": 38,
     "metadata": {},
     "output_type": "execute_result"
    }
   ],
   "source": [
    "opsd_7d =  loginset.rolling(7, center=True).mean()\n",
    "opsd_7d.head(10)"
   ]
  },
  {
   "cell_type": "code",
   "execution_count": 43,
   "metadata": {},
   "outputs": [
    {
     "data": {
      "text/plain": [
       "<Figure size 1080x720 with 0 Axes>"
      ]
     },
     "metadata": {},
     "output_type": "display_data"
    },
    {
     "data": {
      "image/png": "[encoded data removed]",
      "text/plain": [
       "<Figure size 432x288 with 1 Axes>"
      ]
     },
     "metadata": {
      "needs_background": "light"
     },
     "output_type": "display_data"
    }
   ],
   "source": [
    "fig = plt.figure(figsize = (15,10))\n",
    "# Start and end of the date range to extract\n",
    "start, end = '1970-01-01 20:16:36', '1970-01-01 20:47:52'\n",
    "# Plot daily, weekly resampled, and 7-day rolling mean time series together\n",
    "fig, ax = plt.subplots()\n",
    "ax.plot(opsd_7d.loc[start:end, 'mins'],\n",
    "marker='.', linestyle='-', label='7-d Rolling Mean')\n",
    "ax.set_ylabel('')\n",
    "ax.legend();"
   ]
  },
  {
   "cell_type": "code",
   "execution_count": 45,
   "metadata": {},
   "outputs": [],
   "source": [
    "opsd_365d = loginset.rolling(window=365, center=True, min_periods=360).mean()"
   ]
  },
  {
   "cell_type": "code",
   "execution_count": 54,
   "metadata": {},
   "outputs": [
    {
     "data": {
      "text/plain": [
       "<Figure size 1080x1440 with 0 Axes>"
      ]
     },
     "metadata": {},
     "output_type": "display_data"
    },
    {
     "data": {
      "image/png": "[encoded data removed]",
      "text/plain": [
       "<Figure size 432x288 with 1 Axes>"
      ]
     },
     "metadata": {
      "needs_background": "light"
     },
     "output_type": "display_data"
    }
   ],
   "source": [
    "import matplotlib.dates as mdates\n",
    "fig = plt.figure(figsize = (15,20))\n",
    "# Plot daily, 7-day rolling mean, and 365-day rolling mean time series\n",
    "fig, ax = plt.subplots()\n",
    "start, end = '1970-01-01 20:16:36', '1970-01-01 20:47:52'\n",
    "ax.plot(opsd_7d.loc[start:end, 'mins'], linewidth=2, label='7-d Rolling Mean')\n",
    "ax.plot(opsd_365d, color='0.2', linewidth=3,\n",
    "label='Trend (365-d Rolling Mean)')\n",
    "# Set x-ticks to yearly interval and add legend and labels\n",
    "ax.xaxis.set_major_locator(mdates.YearLocator())\n",
    "ax.legend()\n",
    "ax.set_xlabel('Year')\n",
    "ax.set_ylabel('Consumption (GWh)')\n",
    "ax.set_title('Trends in Electricity Consumption');"
   ]
  },
  {
   "cell_type": "markdown",
   "metadata": {},
   "source": [
    "by this plot I cannot tell anything , it does not unveil trends"
   ]
  },
  {
   "cell_type": "code",
   "execution_count": null,
   "metadata": {},
   "outputs": [],
   "source": []
  },
  {
   "cell_type": "code",
   "execution_count": null,
   "metadata": {},
   "outputs": [],
   "source": []
  },
  {
   "cell_type": "markdown",
   "metadata": {},
   "source": [
    "This is just another idea of how I can use my data to inveestigate patterns"
   ]
  },
  {
   "cell_type": "code",
   "execution_count": 81,
   "metadata": {},
   "outputs": [
    {
     "data": {
      "text/plain": [
       "(array([22839.,     0.,     0., 23073.,     0.,     0., 23143.,     0.,\n",
       "            0., 24087.]),\n",
       " array([ 0. ,  4.5,  9. , 13.5, 18. , 22.5, 27. , 31.5, 36. , 40.5, 45. ]),\n",
       " <a list of 10 Patch objects>)"
      ]
     },
     "execution_count": 81,
     "metadata": {},
     "output_type": "execute_result"
    },
    {
     "data": {
      "image/png": "[encoded data removed]",
      "text/plain": [
       "<Figure size 1080x720 with 1 Axes>"
      ]
     },
     "metadata": {
      "needs_background": "light"
     },
     "output_type": "display_data"
    }
   ],
   "source": [
    "#plot\n",
    "fig = plt.figure(figsize = (15,10))\n",
    "your_bins=20\n",
    "arr=plt.hist(loginset.T, bins=your_bins)\n",
    "for i in range(your_bins):\n",
    "    plt.text(arr[1][i],arr[0][i],str(arr[0][i]))\n",
    "plt.hist(loginset.T, bins=10)"
   ]
  },
  {
   "cell_type": "markdown",
   "metadata": {},
   "source": [
    "This is just another idea of how I can use my data to inveestigate patterns"
   ]
  },
  {
   "cell_type": "code",
   "execution_count": 19,
   "metadata": {},
   "outputs": [
    {
     "name": "stdout",
     "output_type": "stream",
     "text": [
      "mins\n",
      "0     22839\n",
      "15    23073\n",
      "30    23143\n",
      "45    24087\n",
      "dtype: int64\n"
     ]
    }
   ],
   "source": [
    "#count duplicates\n",
    "dups_values = loginset.pivot_table(index=['mins'], aggfunc='size')\n",
    "print (dups_values)"
   ]
  },
  {
   "cell_type": "markdown",
   "metadata": {},
   "source": [
    "Finding the demand time"
   ]
  },
  {
   "cell_type": "code",
   "execution_count": 70,
   "metadata": {},
   "outputs": [],
   "source": [
    "#dups_values = loginset.groupby('login_time')['mins'].agg('count').pipe(pd.DataFrame).rename(columns = {'value': 'frequency'})"
   ]
  },
  {
   "cell_type": "code",
   "execution_count": 22,
   "metadata": {},
   "outputs": [
    {
     "data": {
      "text/plain": [
       "mins\n",
       "0     22839\n",
       "15    23073\n",
       "30    23143\n",
       "45    24087\n",
       "dtype: int64"
      ]
     },
     "execution_count": 22,
     "metadata": {},
     "output_type": "execute_result"
    }
   ],
   "source": [
    "dups_values.head()"
   ]
  },
  {
   "cell_type": "code",
   "execution_count": 45,
   "metadata": {},
   "outputs": [],
   "source": [
    "histo = dups_values.groupby('mins').count()"
   ]
  },
  {
   "cell_type": "code",
   "execution_count": 51,
   "metadata": {},
   "outputs": [
    {
     "data": {
      "text/html": [
       "<div>\n",
       "<style scoped>\n",
       "    .dataframe tbody tr th:only-of-type {\n",
       "        vertical-align: middle;\n",
       "    }\n",
       "\n",
       "    .dataframe tbody tr th {\n",
       "        vertical-align: top;\n",
       "    }\n",
       "\n",
       "    .dataframe thead th {\n",
       "        text-align: right;\n",
       "    }\n",
       "</style>\n",
       "<table border=\"1\" class=\"dataframe\">\n",
       "  <thead>\n",
       "    <tr style=\"text-align: right;\">\n",
       "      <th></th>\n",
       "      <th>mins</th>\n",
       "    </tr>\n",
       "    <tr>\n",
       "      <th>login_time</th>\n",
       "      <th></th>\n",
       "    </tr>\n",
       "  </thead>\n",
       "  <tbody>\n",
       "    <tr>\n",
       "      <th>1970-01-01 20:12:16</th>\n",
       "      <td>1</td>\n",
       "    </tr>\n",
       "    <tr>\n",
       "      <th>1970-01-01 20:13:18</th>\n",
       "      <td>1</td>\n",
       "    </tr>\n",
       "    <tr>\n",
       "      <th>1970-01-01 20:16:10</th>\n",
       "      <td>1</td>\n",
       "    </tr>\n",
       "    <tr>\n",
       "      <th>1970-01-01 20:16:36</th>\n",
       "      <td>1</td>\n",
       "    </tr>\n",
       "    <tr>\n",
       "      <th>1970-01-01 20:16:37</th>\n",
       "      <td>1</td>\n",
       "    </tr>\n",
       "    <tr>\n",
       "      <th>...</th>\n",
       "      <td>...</td>\n",
       "    </tr>\n",
       "    <tr>\n",
       "      <th>1970-04-13 18:48:52</th>\n",
       "      <td>1</td>\n",
       "    </tr>\n",
       "    <tr>\n",
       "      <th>1970-04-13 18:50:19</th>\n",
       "      <td>1</td>\n",
       "    </tr>\n",
       "    <tr>\n",
       "      <th>1970-04-13 18:54:02</th>\n",
       "      <td>1</td>\n",
       "    </tr>\n",
       "    <tr>\n",
       "      <th>1970-04-13 18:54:23</th>\n",
       "      <td>1</td>\n",
       "    </tr>\n",
       "    <tr>\n",
       "      <th>1970-04-13 18:57:38</th>\n",
       "      <td>1</td>\n",
       "    </tr>\n",
       "  </tbody>\n",
       "</table>\n",
       "<p>92265 rows × 1 columns</p>\n",
       "</div>"
      ],
      "text/plain": [
       "                     mins\n",
       "login_time               \n",
       "1970-01-01 20:12:16     1\n",
       "1970-01-01 20:13:18     1\n",
       "1970-01-01 20:16:10     1\n",
       "1970-01-01 20:16:36     1\n",
       "1970-01-01 20:16:37     1\n",
       "...                   ...\n",
       "1970-04-13 18:48:52     1\n",
       "1970-04-13 18:50:19     1\n",
       "1970-04-13 18:54:02     1\n",
       "1970-04-13 18:54:23     1\n",
       "1970-04-13 18:57:38     1\n",
       "\n",
       "[92265 rows x 1 columns]"
      ]
     },
     "execution_count": 51,
     "metadata": {},
     "output_type": "execute_result"
    }
   ],
   "source": [
    "loginset.groupby('login_time').count()"
   ]
  },
  {
   "cell_type": "code",
   "execution_count": null,
   "metadata": {},
   "outputs": [],
   "source": [
    "histog = df.groupby('login_time').mins.count()"
   ]
  },
  {
   "cell_type": "code",
   "execution_count": null,
   "metadata": {},
   "outputs": [],
   "source": []
  }
 ],
 "metadata": {
  "kernelspec": {
   "display_name": "Python 3",
   "language": "python",
   "name": "python3"
  },
  "language_info": {
   "codemirror_mode": {
    "name": "ipython",
    "version": 3
   },
   "file_extension": ".py",
   "mimetype": "text/x-python",
   "name": "python",
   "nbconvert_exporter": "python",
   "pygments_lexer": "ipython3",
   "version": "3.8.3"
  }
 },
 "nbformat": 4,
 "nbformat_minor": 4
}
